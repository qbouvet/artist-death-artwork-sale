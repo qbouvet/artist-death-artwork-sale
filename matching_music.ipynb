{
 "cells": [
  {
   "cell_type": "code",
   "execution_count": 1,
   "metadata": {
    "collapsed": true
   },
   "outputs": [],
   "source": [
    "%load_ext autoreload\n",
    "%autoreload 2\n",
    "%reload_ext autoreload\n",
    "\n",
    "#essential imports\n",
    "import pandas as pd\n",
    "import numpy as np\n",
    "import json\n",
    "from pandas.io.json import json_normalize\n",
    "\n",
    "#scraping imports\n",
    "import requests\n",
    "from bs4 import BeautifulSoup\n",
    "\n",
    "#plotting imports\n",
    "%matplotlib inline\n",
    "import matplotlib.pyplot as plt\n",
    "\n",
    "#String matching\n",
    "import re\n",
    "\n",
    "#date\n",
    "import datetime as dt\n",
    "\n",
    "# helpers\n",
    "from matching_helpers import *"
   ]
  },
  {
   "cell_type": "code",
   "execution_count": 2,
   "metadata": {
    "collapsed": true
   },
   "outputs": [],
   "source": [
    "cps = 4 #controls per subjects"
   ]
  },
  {
   "cell_type": "markdown",
   "metadata": {},
   "source": [
    "# Matching CDs/Vynils and dead musicians"
   ]
  },
  {
   "cell_type": "markdown",
   "metadata": {},
   "source": [
    "## 1) Cleaning the meta data generated with Amazon API\n",
    "\n",
    "Original data set was corrupted by symbols in the descriptions and artists' names. A function was used to replace those symbols by empty strings and the required features were selected. \n",
    "The required features are artist and asin as it allows to link artist with its products and then its reviews.\n",
    "\n",
    "Artists names are treated in a specific way, so that the lenght is checked to avoid inconsistent names, caracters are corrected to lower and spaces at the begining and end are avoided, in order to increase probability of matching the names with related products.\n",
    "\n",
    "The description is kept to improve the matching between list of subjects' names and their corresponding products. Description was formatised to lower in a way slightly different from artists names because they don't required to check the length and spaces (it was better to don't truncate it)."
   ]
  },
  {
   "cell_type": "code",
   "execution_count": 3,
   "metadata": {},
   "outputs": [
    {
     "data": {
      "text/html": [
       "<div>\n",
       "<style>\n",
       "    .dataframe thead tr:only-child th {\n",
       "        text-align: right;\n",
       "    }\n",
       "\n",
       "    .dataframe thead th {\n",
       "        text-align: left;\n",
       "    }\n",
       "\n",
       "    .dataframe tbody tr th {\n",
       "        vertical-align: top;\n",
       "    }\n",
       "</style>\n",
       "<table border=\"1\" class=\"dataframe\">\n",
       "  <thead>\n",
       "    <tr style=\"text-align: right;\">\n",
       "      <th></th>\n",
       "      <th>asin</th>\n",
       "      <th>artist</th>\n",
       "      <th>description</th>\n",
       "    </tr>\n",
       "  </thead>\n",
       "  <tbody>\n",
       "    <tr>\n",
       "      <th>0</th>\n",
       "      <td>0001501348</td>\n",
       "      <td>ron kenoly</td>\n",
       "      <td>lenny leblanc,alex acuna,justo almario,tom bro...</td>\n",
       "    </tr>\n",
       "    <tr>\n",
       "      <th>2</th>\n",
       "      <td>0005123909</td>\n",
       "      <td>cedarmont kids</td>\n",
       "      <td>18 music videos for kids: do your ears hang lo...</td>\n",
       "    </tr>\n",
       "    <tr>\n",
       "      <th>5</th>\n",
       "      <td>0005134188</td>\n",
       "      <td>cedarmont kids</td>\n",
       "      <td>vhs tape</td>\n",
       "    </tr>\n",
       "    <tr>\n",
       "      <th>7</th>\n",
       "      <td>0026197898</td>\n",
       "      <td>the sudden passion</td>\n",
       "      <td>when you first hear the sudden passion,you d p...</td>\n",
       "    </tr>\n",
       "    <tr>\n",
       "      <th>18</th>\n",
       "      <td>0307141950</td>\n",
       "      <td>golden books</td>\n",
       "      <td>spring has come,so little critter and dad are ...</td>\n",
       "    </tr>\n",
       "  </tbody>\n",
       "</table>\n",
       "</div>"
      ],
      "text/plain": [
       "          asin              artist  \\\n",
       "0   0001501348          ron kenoly   \n",
       "2   0005123909      cedarmont kids   \n",
       "5   0005134188      cedarmont kids   \n",
       "7   0026197898  the sudden passion   \n",
       "18  0307141950        golden books   \n",
       "\n",
       "                                          description  \n",
       "0   lenny leblanc,alex acuna,justo almario,tom bro...  \n",
       "2   18 music videos for kids: do your ears hang lo...  \n",
       "5                                            vhs tape  \n",
       "7   when you first hear the sudden passion,you d p...  \n",
       "18  spring has come,so little critter and dad are ...  "
      ]
     },
     "execution_count": 3,
     "metadata": {},
     "output_type": "execute_result"
    }
   ],
   "source": [
    "# LOAD DATA \n",
    "\n",
    "features_meta = ['asin', 'artist', 'description']\n",
    "\n",
    "musics_products = pd.read_csv(\n",
    "        'DATA/metadata_processed/meta_CDs_and_Vinyl_processed(v2).csv',\n",
    "        encoding = 'ISO-8859-1',\n",
    "        low_memory=False)\n",
    "\n",
    "musics_products = musics_products[features_meta] #select the required features\n",
    "\n",
    "\n",
    "# CLEAN DATA\n",
    "\n",
    "musics_products = df_rm_punctuation(musics_products) #remove undesired ponctuation like brakets and quotations marks \n",
    "#in the whole data\n",
    "\n",
    "musics_products = musics_products[(musics_products['artist'].isnull()==False) &\\\n",
    "                                  (musics_products[\"artist\"]!='')]#remove nans and empty rows\n",
    "\n",
    "musics_products['description'] = musics_products['description'].apply(lambda s : str(s).lower()) #format description \n",
    "musics_products['artist'] = musics_products['artist'].apply(cleanstr) #format names \n",
    "\n",
    "musics_products.head()"
   ]
  },
  {
   "cell_type": "markdown",
   "metadata": {},
   "source": [
    "## 2) Cleaning and filtering the dead names data\n",
    "\n",
    "Dead artists names were scrapped from Wikipedia. Thez are selected to keep only musicians with the corresponding birth date and death date (description was not selected). Names are formated to be lower caracters without ponctuation this is done to favorise the matching between a dead artist and its derived amazon products."
   ]
  },
  {
   "cell_type": "code",
   "execution_count": 4,
   "metadata": {
    "collapsed": true
   },
   "outputs": [],
   "source": [
    "deaths = pd.read_csv('DATA/deaths.csv', low_memory=False, encoding=\"ISO-8859-1\")"
   ]
  },
  {
   "cell_type": "code",
   "execution_count": 5,
   "metadata": {},
   "outputs": [
    {
     "data": {
      "text/html": [
       "<div>\n",
       "<style>\n",
       "    .dataframe thead tr:only-child th {\n",
       "        text-align: right;\n",
       "    }\n",
       "\n",
       "    .dataframe thead th {\n",
       "        text-align: left;\n",
       "    }\n",
       "\n",
       "    .dataframe tbody tr th {\n",
       "        vertical-align: top;\n",
       "    }\n",
       "</style>\n",
       "<table border=\"1\" class=\"dataframe\">\n",
       "  <thead>\n",
       "    <tr style=\"text-align: right;\">\n",
       "      <th></th>\n",
       "      <th>clname</th>\n",
       "      <th>Birth Date</th>\n",
       "      <th>Death Date</th>\n",
       "    </tr>\n",
       "  </thead>\n",
       "  <tbody>\n",
       "    <tr>\n",
       "      <th>0</th>\n",
       "      <td>paul delph</td>\n",
       "      <td>1957</td>\n",
       "      <td>1996-05-21</td>\n",
       "    </tr>\n",
       "    <tr>\n",
       "      <th>1</th>\n",
       "      <td>jacob druckman</td>\n",
       "      <td>1928</td>\n",
       "      <td>1996-05-24</td>\n",
       "    </tr>\n",
       "    <tr>\n",
       "      <th>2</th>\n",
       "      <td>bradley nowell</td>\n",
       "      <td>1968</td>\n",
       "      <td>1996-05-25</td>\n",
       "    </tr>\n",
       "    <tr>\n",
       "      <th>3</th>\n",
       "      <td>pilar lorengar</td>\n",
       "      <td>1928</td>\n",
       "      <td>1996-06-02</td>\n",
       "    </tr>\n",
       "    <tr>\n",
       "      <th>4</th>\n",
       "      <td>ella fitzgerald</td>\n",
       "      <td>1917</td>\n",
       "      <td>1996-06-15</td>\n",
       "    </tr>\n",
       "  </tbody>\n",
       "</table>\n",
       "</div>"
      ],
      "text/plain": [
       "            clname  Birth Date  Death Date\n",
       "0       paul delph        1957  1996-05-21\n",
       "1   jacob druckman        1928  1996-05-24\n",
       "2   bradley nowell        1968  1996-05-25\n",
       "3   pilar lorengar        1928  1996-06-02\n",
       "4  ella fitzgerald        1917  1996-06-15"
      ]
     },
     "execution_count": 5,
     "metadata": {},
     "output_type": "execute_result"
    }
   ],
   "source": [
    "musician_features = ['clname', 'Birth Date', 'Death Date']\n",
    "\n",
    "dead_musicians = deaths[deaths['Musician']==True].reset_index()\n",
    "dead_musicians['clname'] = dead_musicians['Name'].map(cleanstr) #this function applies a lower\n",
    "#transformartion and removes symbols \n",
    "\n",
    "dead_musicians =dead_musicians[musician_features]\n",
    "dead_musicians.head()"
   ]
  },
  {
   "cell_type": "markdown",
   "metadata": {},
   "source": [
    "## 3) Build controls list\n",
    "\n",
    "The control list is constructed as follows: \n",
    "\n",
    "1) From the metadata, a list of artists is constructed and cleaned in the same way as the dead artists (lower caracters and ponctuation is removed), then duplicates are filtered out\n",
    "\n",
    "2) Names are \"cleaned\" to avoid keeping names of troups (groups of music players) to keep only single interprets. This is done by targeting names containing common english words from a library [https://github.com/dolph/dictionary (popular.txt)] as well as checking the size of the name and control If it contains any number.\n",
    "\n",
    "Since we have a lot of controls, we can be really strict when selecting them. \n",
    "\n",
    "3) Artists belonging to the list of subjects (e.g dead between 1996 to 2014) are filtered out from the list of controls"
   ]
  },
  {
   "cell_type": "code",
   "execution_count": 6,
   "metadata": {},
   "outputs": [
    {
     "name": "stdout",
     "output_type": "stream",
     "text": [
      "['heimdall', 'karmacoda', 'garland jeffreys', 'fitzell', 'michael bradford']\n"
     ]
    }
   ],
   "source": [
    "'''\n",
    "Step 1) Building the list of all musicians names by using the metadata completed with Amazon API,\n",
    "cleaning for symbols, formating to lower, checking for length (>1) and removing duplicates\n",
    "'''\n",
    "musicians_names = [splitstr(troup) for troup in list(musics_products['artist'])] #replace separation symbols (&, /, :) \n",
    "#by  a coma then split on comas: this is done because troups are cited in the artists column of metada\n",
    "\n",
    "musicians_names = [cleanstr(elem) for elem in np.concatenate(musicians_names)] #clean for symbols, remaining comas\n",
    "# and format to lower, also check the size >1 and drop spaces at end and begining of full name\n",
    "\n",
    "musicians_names = list(set(musicians_names)) #remove duplicates\n",
    "musicians_names = musicians_names[1:]\n",
    "\n",
    "print(musicians_names[:5])"
   ]
  },
  {
   "cell_type": "code",
   "execution_count": 7,
   "metadata": {},
   "outputs": [
    {
     "name": "stdout",
     "output_type": "stream",
     "text": [
      "['michael bradford', 'planeta imaginario', 'oascr pappano', 'hamed nikpay', 'tex williams']\n",
      "162575  reduced to  41308\n"
     ]
    }
   ],
   "source": [
    "'''Step 2) Removing groups from the controls lists to keep only single interprets. \n",
    "'''\n",
    "def read_txt(path) :#Returns the lines of a .txt file, with '\\n' characters removed \n",
    "    \n",
    "    file = open(path, \"r\")\n",
    "    tmplist = file.read().split(\"\\n\")# the last line is an empty line \n",
    "    return tmplist[:len(tmplist)-1]\n",
    "\n",
    "def is_name(name): #Returns true if the name does not contain any common english word or digit '''\n",
    "    \n",
    "    if len(name.split()) <= 1 : \n",
    "        return False\n",
    "    \n",
    "    for word in name.split(' ') :\n",
    "            if word in englishwords or any(char.isdigit() for char in word):\n",
    "                return False\n",
    "    return True\n",
    "\n",
    "\n",
    "englishwords = read_txt('DATA/englishwords.txt') # this data was obtained\n",
    "#from https://github.com/dolph/dictionary (popular.txt)\n",
    "\n",
    "single_interprets = [elem for elem in musicians_names if is_name(elem)]\n",
    "\n",
    "print(single_interprets[:5])\n",
    "print(len(musicians_names), ' reduced to ', len(single_interprets))"
   ]
  },
  {
   "cell_type": "code",
   "execution_count": 8,
   "metadata": {
    "scrolled": true
   },
   "outputs": [
    {
     "name": "stdout",
     "output_type": "stream",
     "text": [
      "current iteration:  0\n",
      "current iteration:  100\n",
      "current iteration:  200\n",
      "current iteration:  300\n",
      "current iteration:  400\n",
      "number of controls:  41038\n",
      "number of subjects:  424\n"
     ]
    }
   ],
   "source": [
    "'''Step 3) Filter out subjects' names from the list of controls\n",
    "'''\n",
    "\n",
    "controls = pd.DataFrame(single_interprets, columns = ['clname']) #initialize controls\n",
    "\n",
    "for idx, name in enumerate(dead_musicians['clname'].tolist()): # for each subject we target rows corresponding to\n",
    "    # it in the controls list: this is done to double check with str.contains\n",
    "    # since the list was really dirty at the begining and \n",
    "    # it is possible that some names are still composed of various names\n",
    "    \n",
    "    mapp = controls['clname'].str.contains(name)\n",
    "    if mapp.any():\n",
    "        controls = controls[mapp==False] \n",
    "        \n",
    "    if idx % 100 == 0 : print('current iteration: ',idx)\n",
    "        \n",
    "\n",
    "controls['Birth Date'] = pd.Series() # add NaNs in the fields that exist only for subjects\n",
    "controls['Death Date'] = pd.Series()\n",
    "\n",
    "print('number of controls: ', len(controls))\n",
    "print('number of subjects: ', len(dead_musicians))"
   ]
  },
  {
   "cell_type": "markdown",
   "metadata": {},
   "source": [
    "## 4) Matching dead musicians and meta data\n",
    "\n",
    "Now the datas are cleaned it is possible to match each artist name with the asins of its derived products.\n",
    "The algorithm iterates over dead artists names and target rows in the metada artist and description fields if the current name is contained. "
   ]
  },
  {
   "cell_type": "markdown",
   "metadata": {},
   "source": [
    "To construct the final data, a submatching data for each dead artists is build and duplicates the fields of death date, birth date and name of the musician."
   ]
  },
  {
   "cell_type": "markdown",
   "metadata": {},
   "source": [
    "Then it is appended to a global data for subjects. "
   ]
  },
  {
   "cell_type": "code",
   "execution_count": 9,
   "metadata": {},
   "outputs": [
    {
     "name": "stdout",
     "output_type": "stream",
     "text": [
      "0 in 424 done\n",
      "100 in 424 done\n",
      "200 in 424 done\n",
      "300 in 424 done\n",
      "400 in 424 done\n"
     ]
    }
   ],
   "source": [
    "''' Match dead artists and ASINs '''\n",
    "\n",
    "pd.options.mode.chained_assignment = None # a command to avoid printing warnings\n",
    "meta_dead_musicians = pd.DataFrame() # initialize the data that will contain names and\n",
    "#corresponding ASINs of derived products\n",
    "\n",
    "for idx, musician in enumerate(list(dead_musicians['clname'])):\n",
    "    \n",
    "    match = pd.DataFrame() #subdata of matched asins for the current name\n",
    "    \n",
    "    match = musics_products[ \\\n",
    "                (musics_products['artist'].str.contains(musician)==True) | \n",
    "                (musics_products['description'].str.contains(musician)==True) \\\n",
    "            ].drop('artist',axis=1)\n",
    "    \n",
    "    match['name'] = musician #duplicate the artist features\n",
    "    match['death date'] = dead_musicians['Death Date'].get_value(idx)\n",
    "    match['birth date'] = dead_musicians['Birth Date'].get_value(idx)\n",
    "    \n",
    "    meta_dead_musicians = meta_dead_musicians.append(match)\n",
    "    \n",
    "    if idx %100 == 0: \n",
    "        print('{} in {} done'.format(idx, len(dead_musicians['clname'])))"
   ]
  },
  {
   "cell_type": "code",
   "execution_count": 10,
   "metadata": {},
   "outputs": [
    {
     "name": "stdout",
     "output_type": "stream",
     "text": [
      "368 of artists matched out of 424\n",
      "size of matched data : 26173\n"
     ]
    },
    {
     "data": {
      "text/html": [
       "<div>\n",
       "<style>\n",
       "    .dataframe thead tr:only-child th {\n",
       "        text-align: right;\n",
       "    }\n",
       "\n",
       "    .dataframe thead th {\n",
       "        text-align: left;\n",
       "    }\n",
       "\n",
       "    .dataframe tbody tr th {\n",
       "        vertical-align: top;\n",
       "    }\n",
       "</style>\n",
       "<table border=\"1\" class=\"dataframe\">\n",
       "  <thead>\n",
       "    <tr style=\"text-align: right;\">\n",
       "      <th></th>\n",
       "      <th>asin</th>\n",
       "      <th>description</th>\n",
       "      <th>name</th>\n",
       "      <th>death date</th>\n",
       "      <th>birth date</th>\n",
       "    </tr>\n",
       "  </thead>\n",
       "  <tbody>\n",
       "    <tr>\n",
       "      <th>345352</th>\n",
       "      <td>B000KB9Y6U</td>\n",
       "      <td>1984 atlantic records - film starring jon crye...</td>\n",
       "      <td>paul delph</td>\n",
       "      <td>1996-05-21</td>\n",
       "      <td>1957</td>\n",
       "    </tr>\n",
       "    <tr>\n",
       "      <th>324962</th>\n",
       "      <td>B000EU1H44</td>\n",
       "      <td>in 1950,the columbia university music departme...</td>\n",
       "      <td>jacob druckman</td>\n",
       "      <td>1996-05-24</td>\n",
       "      <td>1928</td>\n",
       "    </tr>\n",
       "    <tr>\n",
       "      <th>347572</th>\n",
       "      <td>B000LP4O1K</td>\n",
       "      <td>aur&amp;#xc3;&amp;#xa9;ole: a halo; a light or luminou...</td>\n",
       "      <td>jacob druckman</td>\n",
       "      <td>1996-05-24</td>\n",
       "      <td>1928</td>\n",
       "    </tr>\n",
       "    <tr>\n",
       "      <th>47783</th>\n",
       "      <td>B000002OZS</td>\n",
       "      <td>for all his tattoos and bulked-up frat-boy per...</td>\n",
       "      <td>bradley nowell</td>\n",
       "      <td>1996-05-25</td>\n",
       "      <td>1968</td>\n",
       "    </tr>\n",
       "    <tr>\n",
       "      <th>232762</th>\n",
       "      <td>B00008AY6K</td>\n",
       "      <td>san diegos slightly stoopid showcase their cre...</td>\n",
       "      <td>bradley nowell</td>\n",
       "      <td>1996-05-25</td>\n",
       "      <td>1968</td>\n",
       "    </tr>\n",
       "  </tbody>\n",
       "</table>\n",
       "</div>"
      ],
      "text/plain": [
       "              asin                                        description  \\\n",
       "345352  B000KB9Y6U  1984 atlantic records - film starring jon crye...   \n",
       "324962  B000EU1H44  in 1950,the columbia university music departme...   \n",
       "347572  B000LP4O1K  aur&#xc3;&#xa9;ole: a halo; a light or luminou...   \n",
       "47783   B000002OZS  for all his tattoos and bulked-up frat-boy per...   \n",
       "232762  B00008AY6K  san diegos slightly stoopid showcase their cre...   \n",
       "\n",
       "                  name  death date  birth date  \n",
       "345352      paul delph  1996-05-21        1957  \n",
       "324962  jacob druckman  1996-05-24        1928  \n",
       "347572  jacob druckman  1996-05-24        1928  \n",
       "47783   bradley nowell  1996-05-25        1968  \n",
       "232762  bradley nowell  1996-05-25        1968  "
      ]
     },
     "execution_count": 10,
     "metadata": {},
     "output_type": "execute_result"
    }
   ],
   "source": [
    "print('{} of artists matched out of {}'.format(len(meta_dead_musicians.groupby('name')),\n",
    "                                                   len(dead_musicians['clname'].index)))\n",
    "print('size of matched data : {}'.format(len(meta_dead_musicians)))\n",
    "meta_dead_musicians.head()"
   ]
  },
  {
   "cell_type": "markdown",
   "metadata": {},
   "source": [
    "## 5) Subsample control musicians and match meta data\n",
    "\n",
    "Now we are going to match the controls with their coresponding asins. But as the number of controls is huge they are\n",
    "randomly subsampled before. Nevertheless to keep enough controls to match them properly with subjects, it is required to have more controls than subjects. The ratio controls to subjects is pre-defined in the variable \"cps\"."
   ]
  },
  {
   "cell_type": "code",
   "execution_count": 11,
   "metadata": {},
   "outputs": [
    {
     "name": "stdout",
     "output_type": "stream",
     "text": [
      "controls reduced from 1690 to 41038\n"
     ]
    },
    {
     "data": {
      "text/html": [
       "<div>\n",
       "<style>\n",
       "    .dataframe thead tr:only-child th {\n",
       "        text-align: right;\n",
       "    }\n",
       "\n",
       "    .dataframe thead th {\n",
       "        text-align: left;\n",
       "    }\n",
       "\n",
       "    .dataframe tbody tr th {\n",
       "        vertical-align: top;\n",
       "    }\n",
       "</style>\n",
       "<table border=\"1\" class=\"dataframe\">\n",
       "  <thead>\n",
       "    <tr style=\"text-align: right;\">\n",
       "      <th></th>\n",
       "      <th>clname</th>\n",
       "      <th>Birth Date</th>\n",
       "      <th>Death Date</th>\n",
       "    </tr>\n",
       "  </thead>\n",
       "  <tbody>\n",
       "    <tr>\n",
       "      <th>11730</th>\n",
       "      <td>orch svizzera italiana</td>\n",
       "      <td>NaN</td>\n",
       "      <td>NaN</td>\n",
       "    </tr>\n",
       "    <tr>\n",
       "      <th>6819</th>\n",
       "      <td>danny malando</td>\n",
       "      <td>NaN</td>\n",
       "      <td>NaN</td>\n",
       "    </tr>\n",
       "    <tr>\n",
       "      <th>33059</th>\n",
       "      <td>kv narayanaswamy</td>\n",
       "      <td>NaN</td>\n",
       "      <td>NaN</td>\n",
       "    </tr>\n",
       "  </tbody>\n",
       "</table>\n",
       "</div>"
      ],
      "text/plain": [
       "                       clname  Birth Date  Death Date\n",
       "11730  orch svizzera italiana         NaN         NaN\n",
       "6819            danny malando         NaN         NaN\n",
       "33059        kv narayanaswamy         NaN         NaN"
      ]
     },
     "execution_count": 11,
     "metadata": {},
     "output_type": "execute_result"
    }
   ],
   "source": [
    "from numpy.random import randint\n",
    "\n",
    "\n",
    "def subsample_df (df, nbWanted) :\n",
    "    assert nbWanted < len(df)\n",
    "    randomIndex = randint(0, len(df)-1, nbWanted)\n",
    "    \n",
    "    return df.loc[randomIndex]\n",
    "\n",
    "sub_controls = subsample_df(controls, cps*len(dead_musicians))\n",
    "sub_controls = sub_controls.dropna(how='all')\n",
    "\n",
    "print('controls reduced from {} to {}'.format(len(sub_controls.index),len(controls.index)))\n",
    "sub_controls.head(3)"
   ]
  },
  {
   "cell_type": "markdown",
   "metadata": {},
   "source": [
    "Once subsampled, the controls are matched with their corresponding ASINs in the same way as subjects.\n",
    "\n",
    "This cell takes roughly 10 minutes to run for a cps of 4. "
   ]
  },
  {
   "cell_type": "code",
   "execution_count": 12,
   "metadata": {
    "scrolled": false
   },
   "outputs": [
    {
     "name": "stdout",
     "output_type": "stream",
     "text": [
      "0 out of 1690\n",
      "100 out of 1690\n",
      "200 out of 1690\n",
      "300 out of 1690\n",
      "400 out of 1690\n",
      "500 out of 1690\n",
      "600 out of 1690\n",
      "700 out of 1690\n",
      "800 out of 1690\n",
      "900 out of 1690\n",
      "1000 out of 1690\n",
      "1100 out of 1690\n",
      "1200 out of 1690\n",
      "1300 out of 1690\n",
      "1400 out of 1690\n",
      "1500 out of 1690\n",
      "1600 out of 1690\n"
     ]
    }
   ],
   "source": [
    "''' Match controls and ASINs'''\n",
    "\n",
    "pd.options.mode.chained_assignment = None\n",
    "meta_control_musicians = pd.DataFrame()\n",
    "\n",
    "for idx, musician in enumerate(list(sub_controls['clname'])):\n",
    "    \n",
    "    match = pd.DataFrame() \n",
    "    \n",
    "    match = musics_products[(musics_products['artist'].str.contains(musician)==True)| (musics_products['description'].str.contains(musician)==True)].drop('artist',axis=1)\n",
    "        \n",
    "    match['name'] = musician\n",
    "    match['death date'] = 'unknown'\n",
    "    match['birth date'] = 'unknown'\n",
    "    \n",
    "    meta_control_musicians = meta_control_musicians.append(match)\n",
    "    \n",
    "    if idx %100 == 0: print('{} out of {}'.format(idx, len(sub_controls['clname'])))"
   ]
  },
  {
   "cell_type": "code",
   "execution_count": 13,
   "metadata": {},
   "outputs": [
    {
     "name": "stdout",
     "output_type": "stream",
     "text": [
      "number of artists matched out of 1684 :                        asin  description  death date  birth date\n",
      "name                                                            \n",
      "a piazzolla               4            4           4           4\n",
      "aaron berofsky            1            1           1           1\n",
      "aaron livingston          3            3           3           3\n",
      "ab quintanilla iii        8            8           8           8\n",
      "abdel halim hafez         6            6           6           6\n",
      "ac gomes                  1            1           1           1\n",
      "acker bilk mr             1            1           1           1\n",
      "adam gorightly            1            1           1           1\n",
      "adam michna               1            1           1           1\n",
      "adele addison             3            3           3           3\n",
      "adele linsalata           3            3           3           3\n",
      "adi yeshaya               1            1           1           1\n",
      "ahbijit vaghani           1            1           1           1\n",
      "ahmad gibaly              1            1           1           1\n",
      "aine minogue             14           14          14          14\n",
      "aj castillo               1            1           1           1\n",
      "akira eguchi              1            1           1           1\n",
      "alain vinet mouvement     1            1           1           1\n",
      "alana amram               1            1           1           1\n",
      "alasdair roberts         11           11          11          11\n",
      "albie micklich            1            1           1           1\n",
      "albita rodriguez          3            3           3           3\n",
      "aldo malaquias            1            1           1           1\n",
      "aldo monges               2            2           2           2\n",
      "alesha dimitrievitch      1            1           1           1\n",
      "alessandro safina        13           13          13          13\n",
      "alex arellano             1            1           1           1\n",
      "alex cuba                 6            6           6           6\n",
      "alex moulton              1            1           1           1\n",
      "alexandra ottaway         1            1           1           1\n",
      "...                     ...          ...         ...         ...\n",
      "witold malcuzynski        4            4           4           4\n",
      "x-mal deutschland         2            2           2           2\n",
      "x-plosive techno          1            1           1           1\n",
      "xlooking forwardx         1            1           1           1\n",
      "yale strom                6            6           6           6\n",
      "ycosta moura              1            1           1           1\n",
      "yerba buena              19           19          19          19\n",
      "yiling huang              1            1           1           1\n",
      "yisroel lamm              1            1           1           1\n",
      "yolanda kondonassis      10           10          10          10\n",
      "yonas haile               1            1           1           1\n",
      "yoshihiro hanno           2            2           2           2\n",
      "yoshihisa hirano          1            1           1           1\n",
      "yoshiko sakimoto          1            1           1           1\n",
      "yuki matsuoka             1            1           1           1\n",
      "yve adam                  1            1           1           1\n",
      "yves robert               1            1           1           1\n",
      "zack moray                2            2           2           2\n",
      "zak khutoretsky           1            1           1           1\n",
      "zaki ibrahim              1            1           1           1\n",
      "zani diabate              2            2           2           2\n",
      "zeze di camargo          10           10          10          10\n",
      "zikmund schul             4            4           4           4\n",
      "zocko groendal            2            2           2           2\n",
      "zoheb hassan              2            2           2           2\n",
      "zohreh jooya              3            3           3           3\n",
      "zola jesus                8            8           8           8\n",
      "zoltan keleman            2            2           2           2\n",
      "zoltan kelemen            1            1           1           1\n",
      "zoltan kodaly             3            3           3           3\n",
      "\n",
      "[1659 rows x 4 columns]\n",
      "size of matched data : 8170\n"
     ]
    },
    {
     "data": {
      "text/html": [
       "<div>\n",
       "<style>\n",
       "    .dataframe thead tr:only-child th {\n",
       "        text-align: right;\n",
       "    }\n",
       "\n",
       "    .dataframe thead th {\n",
       "        text-align: left;\n",
       "    }\n",
       "\n",
       "    .dataframe tbody tr th {\n",
       "        vertical-align: top;\n",
       "    }\n",
       "</style>\n",
       "<table border=\"1\" class=\"dataframe\">\n",
       "  <thead>\n",
       "    <tr style=\"text-align: right;\">\n",
       "      <th></th>\n",
       "      <th>asin</th>\n",
       "      <th>description</th>\n",
       "      <th>name</th>\n",
       "      <th>death date</th>\n",
       "      <th>birth date</th>\n",
       "    </tr>\n",
       "  </thead>\n",
       "  <tbody>\n",
       "    <tr>\n",
       "      <th>356275</th>\n",
       "      <td>B000O78KWO</td>\n",
       "      <td>vai dvd 4402 music of verdi,cil&amp;#xe8;a,saint-s...</td>\n",
       "      <td>orch svizzera italiana</td>\n",
       "      <td>unknown</td>\n",
       "      <td>unknown</td>\n",
       "    </tr>\n",
       "    <tr>\n",
       "      <th>341214</th>\n",
       "      <td>B000IFRWGM</td>\n",
       "      <td>nan</td>\n",
       "      <td>danny malando</td>\n",
       "      <td>unknown</td>\n",
       "      <td>unknown</td>\n",
       "    </tr>\n",
       "    <tr>\n",
       "      <th>189590</th>\n",
       "      <td>B00005HT6B</td>\n",
       "      <td>cd album</td>\n",
       "      <td>kv narayanaswamy</td>\n",
       "      <td>unknown</td>\n",
       "      <td>unknown</td>\n",
       "    </tr>\n",
       "    <tr>\n",
       "      <th>467496</th>\n",
       "      <td>B0087YKZKQ</td>\n",
       "      <td>1 sarasija nabha - pada varnam - mayamalavagou...</td>\n",
       "      <td>kv narayanaswamy</td>\n",
       "      <td>unknown</td>\n",
       "      <td>unknown</td>\n",
       "    </tr>\n",
       "    <tr>\n",
       "      <th>407646</th>\n",
       "      <td>B001UJSWA0</td>\n",
       "      <td>nan</td>\n",
       "      <td>stefka popangelova</td>\n",
       "      <td>unknown</td>\n",
       "      <td>unknown</td>\n",
       "    </tr>\n",
       "  </tbody>\n",
       "</table>\n",
       "</div>"
      ],
      "text/plain": [
       "              asin                                        description  \\\n",
       "356275  B000O78KWO  vai dvd 4402 music of verdi,cil&#xe8;a,saint-s...   \n",
       "341214  B000IFRWGM                                                nan   \n",
       "189590  B00005HT6B                                           cd album   \n",
       "467496  B0087YKZKQ  1 sarasija nabha - pada varnam - mayamalavagou...   \n",
       "407646  B001UJSWA0                                                nan   \n",
       "\n",
       "                          name death date birth date  \n",
       "356275  orch svizzera italiana    unknown    unknown  \n",
       "341214           danny malando    unknown    unknown  \n",
       "189590        kv narayanaswamy    unknown    unknown  \n",
       "467496        kv narayanaswamy    unknown    unknown  \n",
       "407646      stefka popangelova    unknown    unknown  "
      ]
     },
     "execution_count": 13,
     "metadata": {},
     "output_type": "execute_result"
    }
   ],
   "source": [
    "print('number of artists matched out of 1684 :', meta_control_musicians.groupby('name').count())\n",
    "print('size of matched data :',len(meta_control_musicians))\n",
    "meta_control_musicians.head(3)"
   ]
  },
  {
   "cell_type": "markdown",
   "metadata": {},
   "source": [
    "## 6) Cleaning reviews data from Amazon:  CDs and Vinyls\n",
    "\n",
    "Reviews are cleaned to have review times formatable to date time and also they are pre-filtered with the asins that were matched to subjects and controls in order to limit future computations."
   ]
  },
  {
   "cell_type": "code",
   "execution_count": 22,
   "metadata": {
    "collapsed": true
   },
   "outputs": [],
   "source": [
    "import gzip\n",
    "def gz_to_dataframe(datapath, filename):\n",
    "    def parse(path): \n",
    "        g = gzip.open(path, 'rb') \n",
    "        for l in g: \n",
    "            yield eval(l) \n",
    "    def getDF(path): \n",
    "        i = 0 \n",
    "        df = {} \n",
    "        for d in parse(path): \n",
    "            df[i] = d \n",
    "            i += 1 \n",
    "        return pd.DataFrame.from_dict(df, orient='index') \n",
    "    return getDF(datapath+filename)"
   ]
  },
  {
   "cell_type": "code",
   "execution_count": 23,
   "metadata": {
    "scrolled": true
   },
   "outputs": [
    {
     "name": "stdout",
     "output_type": "stream",
     "text": [
      "(3749004, 9)\n"
     ]
    }
   ],
   "source": [
    "datapath = 'DATA/review/'\n",
    "filename = 'reviews_CDs_and_Vinyl.json.gz'\n",
    "\n",
    "reviews_df = gz_to_dataframe(datapath, filename)\n",
    "print(reviews_df.shape)"
   ]
  },
  {
   "cell_type": "code",
   "execution_count": 16,
   "metadata": {
    "collapsed": true
   },
   "outputs": [],
   "source": [
    "# build asins list\n",
    "all_musicians_asins = pd.concat((meta_dead_musicians['asin'], meta_control_musicians['asin'])) \n",
    "\n",
    "\n",
    "def clean_reviews(review_df):\n",
    "    \n",
    "    filtered_reviews = reviews_df[reviews_df['asin'].isin(all_musicians_asins)]\n",
    "\n",
    "    filtered_reviews = filtered_reviews[['asin','reviewText','summary','reviewTime']] \n",
    "    filtered_reviews['reviewTime'] = list(pd.to_datetime(filtered_reviews['reviewTime']\n",
    "                                         .str.replace(',','').str.replace(' ','-')))\n",
    "    \n",
    "    return filtered_reviews"
   ]
  },
  {
   "cell_type": "code",
   "execution_count": 17,
   "metadata": {},
   "outputs": [
    {
     "name": "stdout",
     "output_type": "stream",
     "text": [
      "Filtering reduced size from 3749004 to 339385\n"
     ]
    },
    {
     "data": {
      "text/html": [
       "<div>\n",
       "<style>\n",
       "    .dataframe thead tr:only-child th {\n",
       "        text-align: right;\n",
       "    }\n",
       "\n",
       "    .dataframe thead th {\n",
       "        text-align: left;\n",
       "    }\n",
       "\n",
       "    .dataframe tbody tr th {\n",
       "        vertical-align: top;\n",
       "    }\n",
       "</style>\n",
       "<table border=\"1\" class=\"dataframe\">\n",
       "  <thead>\n",
       "    <tr style=\"text-align: right;\">\n",
       "      <th></th>\n",
       "      <th></th>\n",
       "      <th>reviewText</th>\n",
       "      <th>summary</th>\n",
       "    </tr>\n",
       "    <tr>\n",
       "      <th>asin</th>\n",
       "      <th>reviewTime</th>\n",
       "      <th></th>\n",
       "      <th></th>\n",
       "    </tr>\n",
       "  </thead>\n",
       "  <tbody>\n",
       "    <tr>\n",
       "      <th rowspan=\"5\" valign=\"top\">073890015X</th>\n",
       "      <th>2000-01-29</th>\n",
       "      <td>i just kicked its just that simple if you were...</td>\n",
       "      <td>i loved it</td>\n",
       "    </tr>\n",
       "    <tr>\n",
       "      <th>2006-06-02</th>\n",
       "      <td>I'm really tired by all this \"metal\" stuff. It...</td>\n",
       "      <td>in case my previous review gets edited for con...</td>\n",
       "    </tr>\n",
       "    <tr>\n",
       "      <th>2013-09-11</th>\n",
       "      <td>ok I guess a little over 2 hours was not enoug...</td>\n",
       "      <td>great late 90's concert</td>\n",
       "    </tr>\n",
       "    <tr>\n",
       "      <th>2000-07-16</th>\n",
       "      <td>I saw the show live, and enjoyed it very much....</td>\n",
       "      <td>great show, terrible coverage</td>\n",
       "    </tr>\n",
       "    <tr>\n",
       "      <th>2000-03-10</th>\n",
       "      <td>Everyone badmouthing this tape b/c it is a far...</td>\n",
       "      <td>Not Peace and Love...But Still Worth The Look</td>\n",
       "    </tr>\n",
       "  </tbody>\n",
       "</table>\n",
       "</div>"
      ],
      "text/plain": [
       "                                                              reviewText  \\\n",
       "asin       reviewTime                                                      \n",
       "073890015X 2000-01-29  i just kicked its just that simple if you were...   \n",
       "           2006-06-02  I'm really tired by all this \"metal\" stuff. It...   \n",
       "           2013-09-11  ok I guess a little over 2 hours was not enoug...   \n",
       "           2000-07-16  I saw the show live, and enjoyed it very much....   \n",
       "           2000-03-10  Everyone badmouthing this tape b/c it is a far...   \n",
       "\n",
       "                                                                 summary  \n",
       "asin       reviewTime                                                     \n",
       "073890015X 2000-01-29                                         i loved it  \n",
       "           2006-06-02  in case my previous review gets edited for con...  \n",
       "           2013-09-11                            great late 90's concert  \n",
       "           2000-07-16                      great show, terrible coverage  \n",
       "           2000-03-10      Not Peace and Love...But Still Worth The Look  "
      ]
     },
     "execution_count": 17,
     "metadata": {},
     "output_type": "execute_result"
    }
   ],
   "source": [
    "# filter based on asins\n",
    "filtered_reviews = clean_reviews(reviews_df)\n",
    "\n",
    "print('Filtering reduced size from {} to {}'.format(len(reviews_df.index),len(filtered_reviews.index)))\n",
    "filtered_reviews.set_index(['asin', 'reviewTime']).head()"
   ]
  },
  {
   "cell_type": "markdown",
   "metadata": {},
   "source": [
    "## 7) Matching meta/dead data with reviews data\n",
    "\n",
    "Using the same procedure as for matching the artists' names and the metada asins, the asins from previously matched data are matched with their corresponding reviews.\n",
    "\n",
    "Again, a matched subdata is constructed with duplicated artist features (name, death date and birth date) and appended to a global data with all the matchings. "
   ]
  },
  {
   "cell_type": "code",
   "execution_count": 18,
   "metadata": {
    "collapsed": true
   },
   "outputs": [],
   "source": [
    "pd.options.mode.chained_assignment = None  \n",
    "\n",
    "def matching_meta_reviews(filtered_reviews, meta_in):\n",
    "    \n",
    "    processed_reviews = pd.DataFrame()\n",
    "    meta = meta_in.reset_index() #reset fields to get the correct features by indexing the asins \n",
    "    # recall that each asin was matched with an artist and thus with its corresponding features\n",
    "    \n",
    "    for idx, asin in enumerate(meta['asin']):\n",
    "        \n",
    "        match_reviews = pd.DataFrame()\n",
    "        match_reviews = filtered_reviews[filtered_reviews['asin']==asin] #a strict equal sign is enough since asins \n",
    "        # are perfectly formated from the sources\n",
    "        \n",
    "        match_reviews['name'] = meta['name'].get_value(idx)\n",
    "        match_reviews['death date'] = meta['death date'].get_value(idx)\n",
    "        match_reviews['birth date'] = meta['birth date'].get_value(idx)\n",
    "\n",
    "        processed_reviews = processed_reviews.append(match_reviews)\n",
    "\n",
    "        if idx %1000 == 0: \n",
    "            print('{} in {} done'.format(idx, len(meta['asin'])))\n",
    "        \n",
    "    return processed_reviews"
   ]
  },
  {
   "cell_type": "markdown",
   "metadata": {},
   "source": [
    "Now we can match reviews with the dead actors asins:"
   ]
  },
  {
   "cell_type": "code",
   "execution_count": 19,
   "metadata": {},
   "outputs": [
    {
     "name": "stdout",
     "output_type": "stream",
     "text": [
      "0 in 26173 done\n",
      "1000 in 26173 done\n",
      "2000 in 26173 done\n",
      "3000 in 26173 done\n",
      "4000 in 26173 done\n",
      "5000 in 26173 done\n",
      "6000 in 26173 done\n",
      "7000 in 26173 done\n",
      "8000 in 26173 done\n",
      "9000 in 26173 done\n",
      "10000 in 26173 done\n",
      "11000 in 26173 done\n",
      "12000 in 26173 done\n",
      "13000 in 26173 done\n",
      "14000 in 26173 done\n",
      "15000 in 26173 done\n",
      "16000 in 26173 done\n",
      "17000 in 26173 done\n",
      "18000 in 26173 done\n",
      "19000 in 26173 done\n",
      "20000 in 26173 done\n",
      "21000 in 26173 done\n",
      "22000 in 26173 done\n",
      "23000 in 26173 done\n",
      "24000 in 26173 done\n",
      "25000 in 26173 done\n",
      "26000 in 26173 done\n"
     ]
    },
    {
     "data": {
      "text/html": [
       "<div>\n",
       "<style>\n",
       "    .dataframe thead tr:only-child th {\n",
       "        text-align: right;\n",
       "    }\n",
       "\n",
       "    .dataframe thead th {\n",
       "        text-align: left;\n",
       "    }\n",
       "\n",
       "    .dataframe tbody tr th {\n",
       "        vertical-align: top;\n",
       "    }\n",
       "</style>\n",
       "<table border=\"1\" class=\"dataframe\">\n",
       "  <thead>\n",
       "    <tr style=\"text-align: right;\">\n",
       "      <th></th>\n",
       "      <th>asin</th>\n",
       "      <th>reviewText</th>\n",
       "      <th>summary</th>\n",
       "      <th>reviewTime</th>\n",
       "      <th>name</th>\n",
       "      <th>death date</th>\n",
       "      <th>birth date</th>\n",
       "    </tr>\n",
       "  </thead>\n",
       "  <tbody>\n",
       "    <tr>\n",
       "      <th>2685909</th>\n",
       "      <td>B000KB9Y6U</td>\n",
       "      <td>I bought this item because it did not say vyna...</td>\n",
       "      <td>Should be more descriptive in the title.</td>\n",
       "      <td>2013-05-23</td>\n",
       "      <td>paul delph</td>\n",
       "      <td>1996-05-21</td>\n",
       "      <td>1957</td>\n",
       "    </tr>\n",
       "    <tr>\n",
       "      <th>2685910</th>\n",
       "      <td>B000KB9Y6U</td>\n",
       "      <td>Chrissy Faith is wonderful I must say!!  What ...</td>\n",
       "      <td>You should listen this!!</td>\n",
       "      <td>2013-11-09</td>\n",
       "      <td>paul delph</td>\n",
       "      <td>1996-05-21</td>\n",
       "      <td>1957</td>\n",
       "    </tr>\n",
       "    <tr>\n",
       "      <th>2685911</th>\n",
       "      <td>B000KB9Y6U</td>\n",
       "      <td>this product came quickly and there were no is...</td>\n",
       "      <td>great music</td>\n",
       "      <td>2013-04-26</td>\n",
       "      <td>paul delph</td>\n",
       "      <td>1996-05-21</td>\n",
       "      <td>1957</td>\n",
       "    </tr>\n",
       "    <tr>\n",
       "      <th>2549964</th>\n",
       "      <td>B000EU1H44</td>\n",
       "      <td>To put it short - the sounds are very explorat...</td>\n",
       "      <td>Enchanting</td>\n",
       "      <td>2008-07-11</td>\n",
       "      <td>jacob druckman</td>\n",
       "      <td>1996-05-24</td>\n",
       "      <td>1928</td>\n",
       "    </tr>\n",
       "    <tr>\n",
       "      <th>2696697</th>\n",
       "      <td>B000LP4O1K</td>\n",
       "      <td>This is a delightful recording. It's lite enou...</td>\n",
       "      <td>Pleasing</td>\n",
       "      <td>2011-05-19</td>\n",
       "      <td>jacob druckman</td>\n",
       "      <td>1996-05-24</td>\n",
       "      <td>1928</td>\n",
       "    </tr>\n",
       "  </tbody>\n",
       "</table>\n",
       "</div>"
      ],
      "text/plain": [
       "               asin                                         reviewText  \\\n",
       "2685909  B000KB9Y6U  I bought this item because it did not say vyna...   \n",
       "2685910  B000KB9Y6U  Chrissy Faith is wonderful I must say!!  What ...   \n",
       "2685911  B000KB9Y6U  this product came quickly and there were no is...   \n",
       "2549964  B000EU1H44  To put it short - the sounds are very explorat...   \n",
       "2696697  B000LP4O1K  This is a delightful recording. It's lite enou...   \n",
       "\n",
       "                                          summary reviewTime            name  \\\n",
       "2685909  Should be more descriptive in the title. 2013-05-23      paul delph   \n",
       "2685910                  You should listen this!! 2013-11-09      paul delph   \n",
       "2685911                               great music 2013-04-26      paul delph   \n",
       "2549964                                Enchanting 2008-07-11  jacob druckman   \n",
       "2696697                                  Pleasing 2011-05-19  jacob druckman   \n",
       "\n",
       "         death date  birth date  \n",
       "2685909  1996-05-21        1957  \n",
       "2685910  1996-05-21        1957  \n",
       "2685911  1996-05-21        1957  \n",
       "2549964  1996-05-24        1928  \n",
       "2696697  1996-05-24        1928  "
      ]
     },
     "execution_count": 19,
     "metadata": {},
     "output_type": "execute_result"
    }
   ],
   "source": [
    "processed_reviews_sbj = pd.DataFrame(matching_meta_reviews(filtered_reviews, meta_dead_musicians))\n",
    "processed_reviews_sbj.head()"
   ]
  },
  {
   "cell_type": "markdown",
   "metadata": {},
   "source": [
    "The same method is applied to control set. "
   ]
  },
  {
   "cell_type": "code",
   "execution_count": 20,
   "metadata": {},
   "outputs": [
    {
     "name": "stdout",
     "output_type": "stream",
     "text": [
      "0 in 8170 done\n",
      "1000 in 8170 done\n",
      "2000 in 8170 done\n",
      "3000 in 8170 done\n",
      "4000 in 8170 done\n",
      "5000 in 8170 done\n",
      "6000 in 8170 done\n",
      "7000 in 8170 done\n",
      "8000 in 8170 done\n"
     ]
    },
    {
     "data": {
      "text/html": [
       "<div>\n",
       "<style>\n",
       "    .dataframe thead tr:only-child th {\n",
       "        text-align: right;\n",
       "    }\n",
       "\n",
       "    .dataframe thead th {\n",
       "        text-align: left;\n",
       "    }\n",
       "\n",
       "    .dataframe tbody tr th {\n",
       "        vertical-align: top;\n",
       "    }\n",
       "</style>\n",
       "<table border=\"1\" class=\"dataframe\">\n",
       "  <thead>\n",
       "    <tr style=\"text-align: right;\">\n",
       "      <th></th>\n",
       "      <th>asin</th>\n",
       "      <th>reviewText</th>\n",
       "      <th>summary</th>\n",
       "      <th>reviewTime</th>\n",
       "      <th>name</th>\n",
       "      <th>death date</th>\n",
       "      <th>birth date</th>\n",
       "    </tr>\n",
       "  </thead>\n",
       "  <tbody>\n",
       "    <tr>\n",
       "      <th>2742726</th>\n",
       "      <td>B000O78KWO</td>\n",
       "      <td>This 1991 concert given by soprano Grace Bumbr...</td>\n",
       "      <td>In Regal Splendor</td>\n",
       "      <td>2008-11-02</td>\n",
       "      <td>orch svizzera italiana</td>\n",
       "      <td>unknown</td>\n",
       "      <td>unknown</td>\n",
       "    </tr>\n",
       "    <tr>\n",
       "      <th>2660418</th>\n",
       "      <td>B000IFRWGM</td>\n",
       "      <td>We listen to this uplifting music once a week....</td>\n",
       "      <td>Beautiful music.  Uplifting, as good as it gets!</td>\n",
       "      <td>2010-12-24</td>\n",
       "      <td>danny malando</td>\n",
       "      <td>unknown</td>\n",
       "      <td>unknown</td>\n",
       "    </tr>\n",
       "    <tr>\n",
       "      <th>1488413</th>\n",
       "      <td>B00005HT6B</td>\n",
       "      <td>A great CD  - the Raghuvara (Pantuvarali) is s...</td>\n",
       "      <td>Vintage KV Naryanaswamy and Palghat Raghu</td>\n",
       "      <td>2010-12-06</td>\n",
       "      <td>kv narayanaswamy</td>\n",
       "      <td>unknown</td>\n",
       "      <td>unknown</td>\n",
       "    </tr>\n",
       "    <tr>\n",
       "      <th>3479266</th>\n",
       "      <td>B0087YKZKQ</td>\n",
       "      <td>KV Narayanaswamy, knows simply as KVN, is a li...</td>\n",
       "      <td>A Lion Amongst Classical Indian Music Vocalists</td>\n",
       "      <td>2014-02-02</td>\n",
       "      <td>kv narayanaswamy</td>\n",
       "      <td>unknown</td>\n",
       "      <td>unknown</td>\n",
       "    </tr>\n",
       "    <tr>\n",
       "      <th>3056694</th>\n",
       "      <td>B001UJSWA0</td>\n",
       "      <td>*Recorded in Sofia (1988) this is a 2009 disco...</td>\n",
       "      <td>Real Russian Poetry...</td>\n",
       "      <td>2011-04-10</td>\n",
       "      <td>stefka popangelova</td>\n",
       "      <td>unknown</td>\n",
       "      <td>unknown</td>\n",
       "    </tr>\n",
       "  </tbody>\n",
       "</table>\n",
       "</div>"
      ],
      "text/plain": [
       "               asin                                         reviewText  \\\n",
       "2742726  B000O78KWO  This 1991 concert given by soprano Grace Bumbr...   \n",
       "2660418  B000IFRWGM  We listen to this uplifting music once a week....   \n",
       "1488413  B00005HT6B  A great CD  - the Raghuvara (Pantuvarali) is s...   \n",
       "3479266  B0087YKZKQ  KV Narayanaswamy, knows simply as KVN, is a li...   \n",
       "3056694  B001UJSWA0  *Recorded in Sofia (1988) this is a 2009 disco...   \n",
       "\n",
       "                                                  summary reviewTime  \\\n",
       "2742726                                 In Regal Splendor 2008-11-02   \n",
       "2660418  Beautiful music.  Uplifting, as good as it gets! 2010-12-24   \n",
       "1488413         Vintage KV Naryanaswamy and Palghat Raghu 2010-12-06   \n",
       "3479266   A Lion Amongst Classical Indian Music Vocalists 2014-02-02   \n",
       "3056694                            Real Russian Poetry... 2011-04-10   \n",
       "\n",
       "                           name death date birth date  \n",
       "2742726  orch svizzera italiana    unknown    unknown  \n",
       "2660418           danny malando    unknown    unknown  \n",
       "1488413        kv narayanaswamy    unknown    unknown  \n",
       "3479266        kv narayanaswamy    unknown    unknown  \n",
       "3056694      stefka popangelova    unknown    unknown  "
      ]
     },
     "execution_count": 20,
     "metadata": {},
     "output_type": "execute_result"
    }
   ],
   "source": [
    "processed_reviews_ctrls = pd.DataFrame(matching_meta_reviews(filtered_reviews, meta_control_musicians))\n",
    "processed_reviews_ctrls.head()"
   ]
  },
  {
   "cell_type": "markdown",
   "metadata": {},
   "source": [
    "## Save files"
   ]
  },
  {
   "cell_type": "code",
   "execution_count": 24,
   "metadata": {},
   "outputs": [],
   "source": [
    "processed_reviews_sbj.to_csv('DATA/music_reviews_matched_'+str(cps)+'cps.csv')"
   ]
  },
  {
   "cell_type": "code",
   "execution_count": 25,
   "metadata": {
    "collapsed": true
   },
   "outputs": [],
   "source": [
    "processed_reviews_ctrls.to_csv('DATA/music_reviews_matched_'+str(cps)+'cps_ctrls.csv')"
   ]
  },
  {
   "cell_type": "code",
   "execution_count": null,
   "metadata": {
    "collapsed": true
   },
   "outputs": [],
   "source": []
  }
 ],
 "metadata": {
  "kernelspec": {
   "display_name": "Python 3",
   "language": "python",
   "name": "python3"
  },
  "language_info": {
   "codemirror_mode": {
    "name": "ipython",
    "version": 3
   },
   "file_extension": ".py",
   "mimetype": "text/x-python",
   "name": "python",
   "nbconvert_exporter": "python",
   "pygments_lexer": "ipython3",
   "version": "3.6.3"
  }
 },
 "nbformat": 4,
 "nbformat_minor": 2
}

{
 "cells": [
  {
   "cell_type": "code",
   "execution_count": 2,
   "metadata": {
    "collapsed": true
   },
   "outputs": [],
   "source": [
    "#essential imports\n",
    "import pandas as pd\n",
    "import numpy as np\n",
    "import json\n",
    "from pandas.io.json import json_normalize\n",
    "\n",
    "#plotting imports\n",
    "%matplotlib inline\n",
    "import matplotlib.pyplot as plt\n",
    "\n",
    "# Date\n",
    "import datetime as dt\n",
    "# Sleep\n",
    "import time\n",
    "\n",
    "# Data analysis\n",
    "from scipy import signal, fftpack\n",
    "import numpy\n",
    "\n",
    "datapath = 'DATA/'"
   ]
  },
  {
   "cell_type": "code",
   "execution_count": 3,
   "metadata": {
    "collapsed": true
   },
   "outputs": [],
   "source": [
    "deaths = pd.read_csv('DATA/deaths.csv', low_memory=False)"
   ]
  },
  {
   "cell_type": "code",
   "execution_count": 4,
   "metadata": {},
   "outputs": [
    {
     "data": {
      "text/html": [
       "<div>\n",
       "<style>\n",
       "    .dataframe thead tr:only-child th {\n",
       "        text-align: right;\n",
       "    }\n",
       "\n",
       "    .dataframe thead th {\n",
       "        text-align: left;\n",
       "    }\n",
       "\n",
       "    .dataframe tbody tr th {\n",
       "        vertical-align: top;\n",
       "    }\n",
       "</style>\n",
       "<table border=\"1\" class=\"dataframe\">\n",
       "  <thead>\n",
       "    <tr style=\"text-align: right;\">\n",
       "      <th></th>\n",
       "      <th></th>\n",
       "      <th></th>\n",
       "      <th></th>\n",
       "      <th></th>\n",
       "      <th>reviewText</th>\n",
       "      <th>summary</th>\n",
       "      <th>salesRank</th>\n",
       "    </tr>\n",
       "    <tr>\n",
       "      <th>actor name</th>\n",
       "      <th>death date</th>\n",
       "      <th>title</th>\n",
       "      <th>categories</th>\n",
       "      <th>ReviewTime</th>\n",
       "      <th></th>\n",
       "      <th></th>\n",
       "      <th></th>\n",
       "    </tr>\n",
       "  </thead>\n",
       "  <tbody>\n",
       "    <tr>\n",
       "      <th rowspan=\"5\" valign=\"top\">Jack Weston</th>\n",
       "      <th rowspan=\"5\" valign=\"top\">1996-05-03</th>\n",
       "      <th rowspan=\"5\" valign=\"top\">The Thomas Crown Affair</th>\n",
       "      <th rowspan=\"5\" valign=\"top\">Movies &amp; TV, Movies</th>\n",
       "      <th>2006-04-07</th>\n",
       "      <td>The Original and the best-not much to say read...</td>\n",
       "      <td>The orginal</td>\n",
       "      <td>{Movies &amp; TV: 127647}</td>\n",
       "    </tr>\n",
       "    <tr>\n",
       "      <th>2013-03-24</th>\n",
       "      <td>This was a great movie Steve McQueen invented ...</td>\n",
       "      <td>Steve McQueen invented cool</td>\n",
       "      <td>{Movies &amp; TV: 127647}</td>\n",
       "    </tr>\n",
       "    <tr>\n",
       "      <th>2014-04-05</th>\n",
       "      <td>Everybody knows banks, whether in storefronts,...</td>\n",
       "      <td>Where The Dough Is</td>\n",
       "      <td>{Movies &amp; TV: 127647}</td>\n",
       "    </tr>\n",
       "    <tr>\n",
       "      <th>2012-12-21</th>\n",
       "      <td>an all-time great movie and one of my favorite...</td>\n",
       "      <td>great movie,but PLEASE avoid this copy.</td>\n",
       "      <td>{Movies &amp; TV: 127647}</td>\n",
       "    </tr>\n",
       "    <tr>\n",
       "      <th>2013-05-12</th>\n",
       "      <td>Fans of a rough and tough McQueen know that th...</td>\n",
       "      <td>It's McQueen</td>\n",
       "      <td>{Movies &amp; TV: 127647}</td>\n",
       "    </tr>\n",
       "  </tbody>\n",
       "</table>\n",
       "</div>"
      ],
      "text/plain": [
       "                                                                                                                      reviewText  \\\n",
       "actor name  death date title                   categories          ReviewTime                                                      \n",
       "Jack Weston 1996-05-03 The Thomas Crown Affair Movies & TV, Movies 2006-04-07  The Original and the best-not much to say read...   \n",
       "                                                                   2013-03-24  This was a great movie Steve McQueen invented ...   \n",
       "                                                                   2014-04-05  Everybody knows banks, whether in storefronts,...   \n",
       "                                                                   2012-12-21  an all-time great movie and one of my favorite...   \n",
       "                                                                   2013-05-12  Fans of a rough and tough McQueen know that th...   \n",
       "\n",
       "                                                                                                               summary  \\\n",
       "actor name  death date title                   categories          ReviewTime                                            \n",
       "Jack Weston 1996-05-03 The Thomas Crown Affair Movies & TV, Movies 2006-04-07                              The orginal   \n",
       "                                                                   2013-03-24              Steve McQueen invented cool   \n",
       "                                                                   2014-04-05                       Where The Dough Is   \n",
       "                                                                   2012-12-21  great movie,but PLEASE avoid this copy.   \n",
       "                                                                   2013-05-12                             It's McQueen   \n",
       "\n",
       "                                                                                           salesRank  \n",
       "actor name  death date title                   categories          ReviewTime                         \n",
       "Jack Weston 1996-05-03 The Thomas Crown Affair Movies & TV, Movies 2006-04-07  {Movies & TV: 127647}  \n",
       "                                                                   2013-03-24  {Movies & TV: 127647}  \n",
       "                                                                   2014-04-05  {Movies & TV: 127647}  \n",
       "                                                                   2012-12-21  {Movies & TV: 127647}  \n",
       "                                                                   2013-05-12  {Movies & TV: 127647}  "
      ]
     },
     "execution_count": 4,
     "metadata": {},
     "output_type": "execute_result"
    }
   ],
   "source": [
    "sample_movies_actors = pd.read_csv(datapath+'movie_reviews_matched_actors.csv').drop('Unnamed: 0',axis=1)\n",
    "sample_movies_actors.set_index(['actor name',\n",
    "                                'death date',\n",
    "                                'title',\n",
    "                                'categories','ReviewTime']).drop(['asin'],axis=1).head()"
   ]
  },
  {
   "cell_type": "code",
   "execution_count": 5,
   "metadata": {},
   "outputs": [
    {
     "data": {
      "text/html": [
       "<div>\n",
       "<style>\n",
       "    .dataframe thead tr:only-child th {\n",
       "        text-align: right;\n",
       "    }\n",
       "\n",
       "    .dataframe thead th {\n",
       "        text-align: left;\n",
       "    }\n",
       "\n",
       "    .dataframe tbody tr th {\n",
       "        vertical-align: top;\n",
       "    }\n",
       "</style>\n",
       "<table border=\"1\" class=\"dataframe\">\n",
       "  <thead>\n",
       "    <tr style=\"text-align: right;\">\n",
       "      <th></th>\n",
       "      <th>reviewText</th>\n",
       "    </tr>\n",
       "    <tr>\n",
       "      <th>actor name</th>\n",
       "      <th></th>\n",
       "    </tr>\n",
       "  </thead>\n",
       "  <tbody>\n",
       "    <tr>\n",
       "      <th>Adriana Caselotti</th>\n",
       "      <td>1</td>\n",
       "    </tr>\n",
       "    <tr>\n",
       "      <th>Adrienne Shelly</th>\n",
       "      <td>406</td>\n",
       "    </tr>\n",
       "    <tr>\n",
       "      <th>Al Martino</th>\n",
       "      <td>4</td>\n",
       "    </tr>\n",
       "    <tr>\n",
       "      <th>Alain Bashung</th>\n",
       "      <td>17</td>\n",
       "    </tr>\n",
       "    <tr>\n",
       "      <th>Alan Bates</th>\n",
       "      <td>1323</td>\n",
       "    </tr>\n",
       "  </tbody>\n",
       "</table>\n",
       "</div>"
      ],
      "text/plain": [
       "                   reviewText\n",
       "actor name                   \n",
       "Adriana Caselotti           1\n",
       "Adrienne Shelly           406\n",
       "Al Martino                  4\n",
       "Alain Bashung              17\n",
       "Alan Bates               1323"
      ]
     },
     "execution_count": 5,
     "metadata": {},
     "output_type": "execute_result"
    }
   ],
   "source": [
    "count_reviews = sample_movies_actors[['actor name','reviewText']].groupby('actor name').count()\n",
    "count_reviews.head()"
   ]
  },
  {
   "cell_type": "code",
   "execution_count": 6,
   "metadata": {},
   "outputs": [
    {
     "data": {
      "text/plain": [
       "<matplotlib.axes._subplots.AxesSubplot at 0x12ce68400>"
      ]
     },
     "execution_count": 6,
     "metadata": {},
     "output_type": "execute_result"
    },
    {
     "data": {
      "image/png": "[encoded data removed]",
      "text/plain": [
       "<matplotlib.figure.Figure at 0x113690cf8>"
      ]
     },
     "metadata": {},
     "output_type": "display_data"
    }
   ],
   "source": [
    "count_reviews.rename(columns={'reviewText':'reviews count per actor'}).plot(kind='hist')"
   ]
  },
  {
   "cell_type": "code",
   "execution_count": 7,
   "metadata": {},
   "outputs": [
    {
     "data": {
      "text/html": [
       "<div>\n",
       "<style>\n",
       "    .dataframe thead tr:only-child th {\n",
       "        text-align: right;\n",
       "    }\n",
       "\n",
       "    .dataframe thead th {\n",
       "        text-align: left;\n",
       "    }\n",
       "\n",
       "    .dataframe tbody tr th {\n",
       "        vertical-align: top;\n",
       "    }\n",
       "</style>\n",
       "<table border=\"1\" class=\"dataframe\">\n",
       "  <thead>\n",
       "    <tr style=\"text-align: right;\">\n",
       "      <th></th>\n",
       "      <th>actor name</th>\n",
       "      <th>reviewText</th>\n",
       "      <th>Birth Date</th>\n",
       "      <th>Death Date</th>\n",
       "    </tr>\n",
       "  </thead>\n",
       "  <tbody>\n",
       "    <tr>\n",
       "      <th>0</th>\n",
       "      <td>Adriana Caselotti</td>\n",
       "      <td>1</td>\n",
       "      <td>1916</td>\n",
       "      <td>1997-01-19</td>\n",
       "    </tr>\n",
       "    <tr>\n",
       "      <th>1</th>\n",
       "      <td>Adrienne Shelly</td>\n",
       "      <td>406</td>\n",
       "      <td>1966</td>\n",
       "      <td>2006-11-01</td>\n",
       "    </tr>\n",
       "    <tr>\n",
       "      <th>2</th>\n",
       "      <td>Al Martino</td>\n",
       "      <td>4</td>\n",
       "      <td>1927</td>\n",
       "      <td>2009-10-13</td>\n",
       "    </tr>\n",
       "    <tr>\n",
       "      <th>3</th>\n",
       "      <td>Alain Bashung</td>\n",
       "      <td>17</td>\n",
       "      <td>1947</td>\n",
       "      <td>2009-03-14</td>\n",
       "    </tr>\n",
       "    <tr>\n",
       "      <th>4</th>\n",
       "      <td>Alan Bates</td>\n",
       "      <td>1323</td>\n",
       "      <td>1934</td>\n",
       "      <td>2003-12-27</td>\n",
       "    </tr>\n",
       "  </tbody>\n",
       "</table>\n",
       "</div>"
      ],
      "text/plain": [
       "          actor name  reviewText  Birth Date  Death Date\n",
       "0  Adriana Caselotti           1        1916  1997-01-19\n",
       "1    Adrienne Shelly         406        1966  2006-11-01\n",
       "2         Al Martino           4        1927  2009-10-13\n",
       "3      Alain Bashung          17        1947  2009-03-14\n",
       "4         Alan Bates        1323        1934  2003-12-27"
      ]
     },
     "execution_count": 7,
     "metadata": {},
     "output_type": "execute_result"
    }
   ],
   "source": [
    "filt_info = deaths[['Name','Birth Date','Death Date']].rename(columns={'Name':'actor name'})\n",
    "count_Info = count_reviews.reset_index().merge(filt_info,on='actor name', how='inner')\n",
    "count_Info.head()"
   ]
  },
  {
   "cell_type": "code",
   "execution_count": 8,
   "metadata": {},
   "outputs": [
    {
     "data": {
      "text/html": [
       "<div>\n",
       "<style>\n",
       "    .dataframe thead tr:only-child th {\n",
       "        text-align: right;\n",
       "    }\n",
       "\n",
       "    .dataframe thead th {\n",
       "        text-align: left;\n",
       "    }\n",
       "\n",
       "    .dataframe tbody tr th {\n",
       "        vertical-align: top;\n",
       "    }\n",
       "</style>\n",
       "<table border=\"1\" class=\"dataframe\">\n",
       "  <thead>\n",
       "    <tr style=\"text-align: right;\">\n",
       "      <th></th>\n",
       "      <th>actor name</th>\n",
       "      <th>reviewText</th>\n",
       "      <th>Birth Date</th>\n",
       "      <th>Death Date</th>\n",
       "    </tr>\n",
       "  </thead>\n",
       "  <tbody>\n",
       "    <tr>\n",
       "      <th>0</th>\n",
       "      <td>Adriana Caselotti</td>\n",
       "      <td>1</td>\n",
       "      <td>1916</td>\n",
       "      <td>1997</td>\n",
       "    </tr>\n",
       "    <tr>\n",
       "      <th>1</th>\n",
       "      <td>Adrienne Shelly</td>\n",
       "      <td>406</td>\n",
       "      <td>1966</td>\n",
       "      <td>2006</td>\n",
       "    </tr>\n",
       "    <tr>\n",
       "      <th>2</th>\n",
       "      <td>Al Martino</td>\n",
       "      <td>4</td>\n",
       "      <td>1927</td>\n",
       "      <td>2009</td>\n",
       "    </tr>\n",
       "    <tr>\n",
       "      <th>3</th>\n",
       "      <td>Alain Bashung</td>\n",
       "      <td>17</td>\n",
       "      <td>1947</td>\n",
       "      <td>2009</td>\n",
       "    </tr>\n",
       "    <tr>\n",
       "      <th>4</th>\n",
       "      <td>Alan Bates</td>\n",
       "      <td>1323</td>\n",
       "      <td>1934</td>\n",
       "      <td>2003</td>\n",
       "    </tr>\n",
       "  </tbody>\n",
       "</table>\n",
       "</div>"
      ],
      "text/plain": [
       "          actor name  reviewText  Birth Date  Death Date\n",
       "0  Adriana Caselotti           1        1916        1997\n",
       "1    Adrienne Shelly         406        1966        2006\n",
       "2         Al Martino           4        1927        2009\n",
       "3      Alain Bashung          17        1947        2009\n",
       "4         Alan Bates        1323        1934        2003"
      ]
     },
     "execution_count": 8,
     "metadata": {},
     "output_type": "execute_result"
    }
   ],
   "source": [
    "def clear_date(df, date_name):\n",
    "    dout = df.drop(date_name,axis=1)\n",
    "    dout[date_name] = pd.to_datetime(df[date_name]).map(lambda x: x.year)\n",
    "    return dout\n",
    "\n",
    "count_clear = clear_date(count_Info,'Death Date')\n",
    "#count_clear = clear_date(count_clear_death,'Death Date')   \n",
    "count_clear.head()"
   ]
  },
  {
   "cell_type": "code",
   "execution_count": 9,
   "metadata": {
    "collapsed": true
   },
   "outputs": [],
   "source": [
    "count_clear = count_clear.copy()\n",
    "\n",
    "def compute_age(birth, death):\n",
    "    age = []\n",
    "    for idx in range(0,len(birth)):\n",
    "        age.append(death[idx]-birth[idx])\n",
    "    return age\n",
    "\n",
    "count_clear['Age'] = compute_age(np.array(count_clear['Birth Date']), np.array(count_clear['Death Date']))"
   ]
  },
  {
   "cell_type": "code",
   "execution_count": 10,
   "metadata": {},
   "outputs": [
    {
     "data": {
      "text/html": [
       "<div>\n",
       "<style>\n",
       "    .dataframe thead tr:only-child th {\n",
       "        text-align: right;\n",
       "    }\n",
       "\n",
       "    .dataframe thead th {\n",
       "        text-align: left;\n",
       "    }\n",
       "\n",
       "    .dataframe tbody tr th {\n",
       "        vertical-align: top;\n",
       "    }\n",
       "</style>\n",
       "<table border=\"1\" class=\"dataframe\">\n",
       "  <thead>\n",
       "    <tr style=\"text-align: right;\">\n",
       "      <th></th>\n",
       "      <th>reviewText</th>\n",
       "      <th>Birth Date</th>\n",
       "      <th>Death Date</th>\n",
       "      <th>Age</th>\n",
       "    </tr>\n",
       "    <tr>\n",
       "      <th>actor name</th>\n",
       "      <th></th>\n",
       "      <th></th>\n",
       "      <th></th>\n",
       "      <th></th>\n",
       "    </tr>\n",
       "  </thead>\n",
       "  <tbody>\n",
       "    <tr>\n",
       "      <th>Adrienne Shelly</th>\n",
       "      <td>406</td>\n",
       "      <td>1966</td>\n",
       "      <td>2006</td>\n",
       "      <td>40</td>\n",
       "    </tr>\n",
       "    <tr>\n",
       "      <th>Alan Bates</th>\n",
       "      <td>1323</td>\n",
       "      <td>1934</td>\n",
       "      <td>2003</td>\n",
       "      <td>69</td>\n",
       "    </tr>\n",
       "    <tr>\n",
       "      <th>Alan North</th>\n",
       "      <td>533</td>\n",
       "      <td>1920</td>\n",
       "      <td>2000</td>\n",
       "      <td>80</td>\n",
       "    </tr>\n",
       "    <tr>\n",
       "      <th>Alec Guinness</th>\n",
       "      <td>5296</td>\n",
       "      <td>1914</td>\n",
       "      <td>2000</td>\n",
       "      <td>86</td>\n",
       "    </tr>\n",
       "    <tr>\n",
       "      <th>Alida Valli</th>\n",
       "      <td>828</td>\n",
       "      <td>1921</td>\n",
       "      <td>2006</td>\n",
       "      <td>85</td>\n",
       "    </tr>\n",
       "  </tbody>\n",
       "</table>\n",
       "</div>"
      ],
      "text/plain": [
       "                 reviewText  Birth Date  Death Date  Age\n",
       "actor name                                              \n",
       "Adrienne Shelly         406        1966        2006   40\n",
       "Alan Bates             1323        1934        2003   69\n",
       "Alan North              533        1920        2000   80\n",
       "Alec Guinness          5296        1914        2000   86\n",
       "Alida Valli             828        1921        2006   85"
      ]
     },
     "execution_count": 10,
     "metadata": {},
     "output_type": "execute_result"
    }
   ],
   "source": [
    "filteredCounts = count_clear[count_clear['reviewText'] > 50]\n",
    "filteredCounts.set_index('actor name').head()"
   ]
  },
  {
   "cell_type": "code",
   "execution_count": 11,
   "metadata": {},
   "outputs": [
    {
     "data": {
      "text/html": [
       "<div>\n",
       "<style>\n",
       "    .dataframe thead tr:only-child th {\n",
       "        text-align: right;\n",
       "    }\n",
       "\n",
       "    .dataframe thead th {\n",
       "        text-align: left;\n",
       "    }\n",
       "\n",
       "    .dataframe tbody tr th {\n",
       "        vertical-align: top;\n",
       "    }\n",
       "</style>\n",
       "<table border=\"1\" class=\"dataframe\">\n",
       "  <thead>\n",
       "    <tr style=\"text-align: right;\">\n",
       "      <th></th>\n",
       "      <th>reviewText</th>\n",
       "      <th>Birth Date</th>\n",
       "      <th>Death Date</th>\n",
       "      <th>Age</th>\n",
       "    </tr>\n",
       "    <tr>\n",
       "      <th>actor name</th>\n",
       "      <th></th>\n",
       "      <th></th>\n",
       "      <th></th>\n",
       "      <th></th>\n",
       "    </tr>\n",
       "  </thead>\n",
       "  <tbody>\n",
       "    <tr>\n",
       "      <th>Adrienne Shelly</th>\n",
       "      <td>406</td>\n",
       "      <td>1966</td>\n",
       "      <td>2006</td>\n",
       "      <td>40</td>\n",
       "    </tr>\n",
       "    <tr>\n",
       "      <th>Alain Bashung</th>\n",
       "      <td>17</td>\n",
       "      <td>1947</td>\n",
       "      <td>2009</td>\n",
       "      <td>62</td>\n",
       "    </tr>\n",
       "    <tr>\n",
       "      <th>Alan Bates</th>\n",
       "      <td>1323</td>\n",
       "      <td>1934</td>\n",
       "      <td>2003</td>\n",
       "      <td>69</td>\n",
       "    </tr>\n",
       "    <tr>\n",
       "      <th>Alvy Moore</th>\n",
       "      <td>572</td>\n",
       "      <td>1921</td>\n",
       "      <td>1997</td>\n",
       "      <td>76</td>\n",
       "    </tr>\n",
       "    <tr>\n",
       "      <th>Amrish Puri</th>\n",
       "      <td>367</td>\n",
       "      <td>1932</td>\n",
       "      <td>2005</td>\n",
       "      <td>73</td>\n",
       "    </tr>\n",
       "  </tbody>\n",
       "</table>\n",
       "</div>"
      ],
      "text/plain": [
       "                 reviewText  Birth Date  Death Date  Age\n",
       "actor name                                              \n",
       "Adrienne Shelly         406        1966        2006   40\n",
       "Alain Bashung            17        1947        2009   62\n",
       "Alan Bates             1323        1934        2003   69\n",
       "Alvy Moore              572        1921        1997   76\n",
       "Amrish Puri             367        1932        2005   73"
      ]
     },
     "execution_count": 11,
     "metadata": {},
     "output_type": "execute_result"
    }
   ],
   "source": [
    "filteredAges = count_clear[count_clear['Age'] < 80]\n",
    "filteredAges.set_index('actor name').head()"
   ]
  },
  {
   "cell_type": "code",
   "execution_count": 12,
   "metadata": {},
   "outputs": [
    {
     "data": {
      "text/html": [
       "<div>\n",
       "<style>\n",
       "    .dataframe thead tr:only-child th {\n",
       "        text-align: right;\n",
       "    }\n",
       "\n",
       "    .dataframe thead th {\n",
       "        text-align: left;\n",
       "    }\n",
       "\n",
       "    .dataframe tbody tr th {\n",
       "        vertical-align: top;\n",
       "    }\n",
       "</style>\n",
       "<table border=\"1\" class=\"dataframe\">\n",
       "  <thead>\n",
       "    <tr style=\"text-align: right;\">\n",
       "      <th></th>\n",
       "      <th>reviewText</th>\n",
       "      <th>Birth Date</th>\n",
       "      <th>Death Date</th>\n",
       "      <th>Age</th>\n",
       "    </tr>\n",
       "    <tr>\n",
       "      <th>actor name</th>\n",
       "      <th></th>\n",
       "      <th></th>\n",
       "      <th></th>\n",
       "      <th></th>\n",
       "    </tr>\n",
       "  </thead>\n",
       "  <tbody>\n",
       "    <tr>\n",
       "      <th>Alain Bashung</th>\n",
       "      <td>17</td>\n",
       "      <td>1947</td>\n",
       "      <td>2009</td>\n",
       "      <td>62</td>\n",
       "    </tr>\n",
       "    <tr>\n",
       "      <th>Andy Whitfield</th>\n",
       "      <td>112</td>\n",
       "      <td>1971</td>\n",
       "      <td>2011</td>\n",
       "      <td>40</td>\n",
       "    </tr>\n",
       "    <tr>\n",
       "      <th>Anthony Minghella</th>\n",
       "      <td>48</td>\n",
       "      <td>1954</td>\n",
       "      <td>2008</td>\n",
       "      <td>54</td>\n",
       "    </tr>\n",
       "    <tr>\n",
       "      <th>Arik Einstein</th>\n",
       "      <td>1</td>\n",
       "      <td>1939</td>\n",
       "      <td>2013</td>\n",
       "      <td>74</td>\n",
       "    </tr>\n",
       "    <tr>\n",
       "      <th>Bernadette Lafont</th>\n",
       "      <td>88</td>\n",
       "      <td>1938</td>\n",
       "      <td>2013</td>\n",
       "      <td>75</td>\n",
       "    </tr>\n",
       "  </tbody>\n",
       "</table>\n",
       "</div>"
      ],
      "text/plain": [
       "                   reviewText  Birth Date  Death Date  Age\n",
       "actor name                                                \n",
       "Alain Bashung              17        1947        2009   62\n",
       "Andy Whitfield            112        1971        2011   40\n",
       "Anthony Minghella          48        1954        2008   54\n",
       "Arik Einstein               1        1939        2013   74\n",
       "Bernadette Lafont          88        1938        2013   75"
      ]
     },
     "execution_count": 12,
     "metadata": {},
     "output_type": "execute_result"
    }
   ],
   "source": [
    "filteredDates = filteredAges[filteredAges['Death Date'] > 2007]\n",
    "filteredDates.set_index('actor name').head()"
   ]
  },
  {
   "cell_type": "code",
   "execution_count": 13,
   "metadata": {},
   "outputs": [
    {
     "name": "stdout",
     "output_type": "stream",
     "text": [
      "Current iteration: 0\n"
     ]
    },
    {
     "name": "stderr",
     "output_type": "stream",
     "text": [
      "/Users/marcadentsandra/miniconda2/envs/py35/lib/python3.5/site-packages/ipykernel_launcher.py:5: UserWarning: This pattern has match groups. To actually get the groups, use str.extract.\n",
      "  \"\"\"\n"
     ]
    },
    {
     "name": "stdout",
     "output_type": "stream",
     "text": [
      "Current iteration: 100\n",
      "Current iteration: 200\n",
      "Current iteration: 300\n",
      "Current iteration: 400\n"
     ]
    }
   ],
   "source": [
    "filter_reviews = sample_movies_actors.set_index('actor name')\n",
    "counting_mentions = []\n",
    "for idx, name in enumerate(count_clear.set_index('actor name').index):\n",
    "    count = 0\n",
    "    if pd.Series(filter_reviews['reviewText'].get_value(name)).str.contains(name).any(): count+=1\n",
    "    counting_mentions.append(count)\n",
    "    \n",
    "    if idx%100 == 0 : print('Current iteration: {}'.format(idx))\n"
   ]
  },
  {
   "cell_type": "code",
   "execution_count": 14,
   "metadata": {},
   "outputs": [
    {
     "data": {
      "text/plain": [
       "((428, 6), (483, 5))"
      ]
     },
     "execution_count": 14,
     "metadata": {},
     "output_type": "execute_result"
    }
   ],
   "source": [
    "count_clear2= count_clear.copy()\n",
    "count_clear2['isReviewed'] = counting_mentions\n",
    "count_clear2[count_clear2['isReviewed']==1].shape, count_clear.shape"
   ]
  },
  {
   "cell_type": "markdown",
   "metadata": {},
   "source": [
    "### Build data"
   ]
  },
  {
   "cell_type": "code",
   "execution_count": 15,
   "metadata": {
    "collapsed": true
   },
   "outputs": [],
   "source": [
    "def create_temp_time():\n",
    "    template_time = pd.to_datetime(['199'+str(i) for i in range(6,10)]+\n",
    "                ['200'+str(i) for i in range(0,10)]+\n",
    "                ['20'+str(i) for i in range(10,15)])\n",
    "    return pd.DataFrame(template_time.year,columns=['review year'])"
   ]
  },
  {
   "cell_type": "code",
   "execution_count": 16,
   "metadata": {
    "collapsed": true
   },
   "outputs": [],
   "source": [
    "def build_data(df, name, template_years):\n",
    "    \n",
    "    yeardf = df[df['actor name'] == name]\n",
    "    year_count = yeardf[['reviewText','ReviewTime']].groupby('ReviewTime').count()\n",
    "    year_count = year_count.reset_index().rename(columns = {'ReviewTime': 'review year'})\n",
    "    \n",
    "    yearc_comp = (template_years.merge(year_count,on='review year',how='outer')\n",
    "            .fillna(0)\n",
    "            .sort_values(by='review year'))\n",
    "\n",
    "    tot = np.sum(yearc_comp.set_index('review year'))\n",
    "    density_df = (yearc_comp.set_index('review year')/tot).rename(columns={'reviewText': 'review density'})\n",
    "    \n",
    "    return density_df, tot"
   ]
  },
  {
   "cell_type": "markdown",
   "metadata": {},
   "source": [
    "### Build example"
   ]
  },
  {
   "cell_type": "code",
   "execution_count": 17,
   "metadata": {},
   "outputs": [
    {
     "data": {
      "text/html": [
       "<div>\n",
       "<style>\n",
       "    .dataframe thead tr:only-child th {\n",
       "        text-align: right;\n",
       "    }\n",
       "\n",
       "    .dataframe thead th {\n",
       "        text-align: left;\n",
       "    }\n",
       "\n",
       "    .dataframe tbody tr th {\n",
       "        vertical-align: top;\n",
       "    }\n",
       "</style>\n",
       "<table border=\"1\" class=\"dataframe\">\n",
       "  <thead>\n",
       "    <tr style=\"text-align: right;\">\n",
       "      <th></th>\n",
       "      <th>asin</th>\n",
       "      <th>reviewText</th>\n",
       "      <th>summary</th>\n",
       "      <th>actor name</th>\n",
       "      <th>death date</th>\n",
       "      <th>title</th>\n",
       "      <th>categories</th>\n",
       "      <th>salesRank</th>\n",
       "      <th>ReviewTime</th>\n",
       "    </tr>\n",
       "  </thead>\n",
       "  <tbody>\n",
       "    <tr>\n",
       "      <th>0</th>\n",
       "      <td>0792840461</td>\n",
       "      <td>The Original and the best-not much to say read...</td>\n",
       "      <td>The orginal</td>\n",
       "      <td>Jack Weston</td>\n",
       "      <td>1996-05-03</td>\n",
       "      <td>The Thomas Crown Affair</td>\n",
       "      <td>Movies &amp; TV, Movies</td>\n",
       "      <td>{Movies &amp; TV: 127647}</td>\n",
       "      <td>2006</td>\n",
       "    </tr>\n",
       "    <tr>\n",
       "      <th>1</th>\n",
       "      <td>0792840461</td>\n",
       "      <td>This was a great movie Steve McQueen invented ...</td>\n",
       "      <td>Steve McQueen invented cool</td>\n",
       "      <td>Jack Weston</td>\n",
       "      <td>1996-05-03</td>\n",
       "      <td>The Thomas Crown Affair</td>\n",
       "      <td>Movies &amp; TV, Movies</td>\n",
       "      <td>{Movies &amp; TV: 127647}</td>\n",
       "      <td>2013</td>\n",
       "    </tr>\n",
       "    <tr>\n",
       "      <th>2</th>\n",
       "      <td>0792840461</td>\n",
       "      <td>Everybody knows banks, whether in storefronts,...</td>\n",
       "      <td>Where The Dough Is</td>\n",
       "      <td>Jack Weston</td>\n",
       "      <td>1996-05-03</td>\n",
       "      <td>The Thomas Crown Affair</td>\n",
       "      <td>Movies &amp; TV, Movies</td>\n",
       "      <td>{Movies &amp; TV: 127647}</td>\n",
       "      <td>2014</td>\n",
       "    </tr>\n",
       "    <tr>\n",
       "      <th>3</th>\n",
       "      <td>0792840461</td>\n",
       "      <td>an all-time great movie and one of my favorite...</td>\n",
       "      <td>great movie,but PLEASE avoid this copy.</td>\n",
       "      <td>Jack Weston</td>\n",
       "      <td>1996-05-03</td>\n",
       "      <td>The Thomas Crown Affair</td>\n",
       "      <td>Movies &amp; TV, Movies</td>\n",
       "      <td>{Movies &amp; TV: 127647}</td>\n",
       "      <td>2012</td>\n",
       "    </tr>\n",
       "    <tr>\n",
       "      <th>4</th>\n",
       "      <td>0792840461</td>\n",
       "      <td>Fans of a rough and tough McQueen know that th...</td>\n",
       "      <td>It's McQueen</td>\n",
       "      <td>Jack Weston</td>\n",
       "      <td>1996-05-03</td>\n",
       "      <td>The Thomas Crown Affair</td>\n",
       "      <td>Movies &amp; TV, Movies</td>\n",
       "      <td>{Movies &amp; TV: 127647}</td>\n",
       "      <td>2013</td>\n",
       "    </tr>\n",
       "  </tbody>\n",
       "</table>\n",
       "</div>"
      ],
      "text/plain": [
       "         asin                                         reviewText  \\\n",
       "0  0792840461  The Original and the best-not much to say read...   \n",
       "1  0792840461  This was a great movie Steve McQueen invented ...   \n",
       "2  0792840461  Everybody knows banks, whether in storefronts,...   \n",
       "3  0792840461  an all-time great movie and one of my favorite...   \n",
       "4  0792840461  Fans of a rough and tough McQueen know that th...   \n",
       "\n",
       "                                   summary   actor name  death date  \\\n",
       "0                              The orginal  Jack Weston  1996-05-03   \n",
       "1              Steve McQueen invented cool  Jack Weston  1996-05-03   \n",
       "2                       Where The Dough Is  Jack Weston  1996-05-03   \n",
       "3  great movie,but PLEASE avoid this copy.  Jack Weston  1996-05-03   \n",
       "4                             It's McQueen  Jack Weston  1996-05-03   \n",
       "\n",
       "                     title           categories              salesRank  \\\n",
       "0  The Thomas Crown Affair  Movies & TV, Movies  {Movies & TV: 127647}   \n",
       "1  The Thomas Crown Affair  Movies & TV, Movies  {Movies & TV: 127647}   \n",
       "2  The Thomas Crown Affair  Movies & TV, Movies  {Movies & TV: 127647}   \n",
       "3  The Thomas Crown Affair  Movies & TV, Movies  {Movies & TV: 127647}   \n",
       "4  The Thomas Crown Affair  Movies & TV, Movies  {Movies & TV: 127647}   \n",
       "\n",
       "   ReviewTime  \n",
       "0        2006  \n",
       "1        2013  \n",
       "2        2014  \n",
       "3        2012  \n",
       "4        2013  "
      ]
     },
     "execution_count": 17,
     "metadata": {},
     "output_type": "execute_result"
    }
   ],
   "source": [
    "review_timey = clear_date(sample_movies_actors,'ReviewTime')\n",
    "review_timey.head()"
   ]
  },
  {
   "cell_type": "code",
   "execution_count": 18,
   "metadata": {
    "collapsed": true
   },
   "outputs": [],
   "source": [
    "df = review_timey\n",
    "name = 'Alec Guinness'\n",
    "template_years = create_temp_time()\n",
    "\n",
    "dat, tot_count = build_data(df, name, template_years)"
   ]
  },
  {
   "cell_type": "code",
   "execution_count": 19,
   "metadata": {
    "collapsed": true
   },
   "outputs": [],
   "source": [
    "death_year = count_clear.set_index('actor name')['Death Date'].get_value(name)\n",
    "corr_ = list(np.array(dat.index == death_year,dtype=float)*np.array(dat['review density'], dtype = float))"
   ]
  },
  {
   "cell_type": "code",
   "execution_count": 20,
   "metadata": {},
   "outputs": [
    {
     "data": {
      "text/plain": [
       "<matplotlib.axes._subplots.AxesSubplot at 0x112ebd860>"
      ]
     },
     "execution_count": 20,
     "metadata": {},
     "output_type": "execute_result"
    },
    {
     "data": {
      "image/png": "[encoded data removed]",
      "text/plain": [
       "<matplotlib.figure.Figure at 0x112eb8710>"
      ]
     },
     "metadata": {},
     "output_type": "display_data"
    }
   ],
   "source": [
    "for_disp = dat.copy()\n",
    "for_disp['death date'] = corr_\n",
    "for_disp.plot(kind='bar')"
   ]
  },
  {
   "cell_type": "markdown",
   "metadata": {},
   "source": [
    "### Model based analysis"
   ]
  },
  {
   "cell_type": "code",
   "execution_count": 21,
   "metadata": {},
   "outputs": [
    {
     "data": {
      "text/html": [
       "<div>\n",
       "<style>\n",
       "    .dataframe thead tr:only-child th {\n",
       "        text-align: right;\n",
       "    }\n",
       "\n",
       "    .dataframe thead th {\n",
       "        text-align: left;\n",
       "    }\n",
       "\n",
       "    .dataframe tbody tr th {\n",
       "        vertical-align: top;\n",
       "    }\n",
       "</style>\n",
       "<table border=\"1\" class=\"dataframe\">\n",
       "  <thead>\n",
       "    <tr style=\"text-align: right;\">\n",
       "      <th></th>\n",
       "      <th>review year</th>\n",
       "    </tr>\n",
       "  </thead>\n",
       "  <tbody>\n",
       "    <tr>\n",
       "      <th>0</th>\n",
       "      <td>1996</td>\n",
       "    </tr>\n",
       "    <tr>\n",
       "      <th>1</th>\n",
       "      <td>1997</td>\n",
       "    </tr>\n",
       "    <tr>\n",
       "      <th>2</th>\n",
       "      <td>1998</td>\n",
       "    </tr>\n",
       "    <tr>\n",
       "      <th>3</th>\n",
       "      <td>1999</td>\n",
       "    </tr>\n",
       "    <tr>\n",
       "      <th>4</th>\n",
       "      <td>2000</td>\n",
       "    </tr>\n",
       "  </tbody>\n",
       "</table>\n",
       "</div>"
      ],
      "text/plain": [
       "   review year\n",
       "0         1996\n",
       "1         1997\n",
       "2         1998\n",
       "3         1999\n",
       "4         2000"
      ]
     },
     "execution_count": 21,
     "metadata": {},
     "output_type": "execute_result"
    }
   ],
   "source": [
    "template_years.head()"
   ]
  },
  {
   "cell_type": "markdown",
   "metadata": {},
   "source": [
    "Build Gaussian"
   ]
  },
  {
   "cell_type": "code",
   "execution_count": 22,
   "metadata": {
    "collapsed": true
   },
   "outputs": [],
   "source": [
    "def build_model(template_years, death_year, density_df, tot_count):\n",
    "    \n",
    "    # parameters\n",
    "        len_y = len(template_years)\n",
    "        half_y = round((len_y-1)/2)\n",
    "        diff = (float(death_year)-float(template_years['review year'].get_value(half_y)))\n",
    "        tot = tot_count\n",
    "        \n",
    "    # gaussian shape\n",
    "        mu, sigma = diff, 0.5 # mean and standard deviation\n",
    "        np.random.seed(1)\n",
    "        s = np.random.normal(mu, sigma, int(tot))\n",
    "\n",
    "        bins = np.linspace(-len_y/2,len_y/2,len_y+1)\n",
    "        count, bin_edges = np.histogram(s, bins=bins)\n",
    "        \n",
    "    # achieve model and true serie\n",
    "        true_serie = list(density_df['review density'])\n",
    "        count_offset = np.mean(np.array(true_serie)*float(tot))\n",
    "        model_serie = (count + count_offset)/(np.sum(count + count_offset))\n",
    "        \n",
    "        return  true_serie, model_serie"
   ]
  },
  {
   "cell_type": "code",
   "execution_count": 23,
   "metadata": {},
   "outputs": [
    {
     "data": {
      "text/plain": [
       "(19, 19)"
      ]
     },
     "execution_count": 23,
     "metadata": {},
     "output_type": "execute_result"
    }
   ],
   "source": [
    "true_serie, model_serie = build_model(template_years, death_year, dat, tot_count)\n",
    "len(true_serie), len(model_serie)"
   ]
  },
  {
   "cell_type": "markdown",
   "metadata": {},
   "source": [
    "example display"
   ]
  },
  {
   "cell_type": "code",
   "execution_count": 24,
   "metadata": {},
   "outputs": [
    {
     "data": {
      "text/plain": [
       "<matplotlib.axes._subplots.AxesSubplot at 0x12cbb2198>"
      ]
     },
     "execution_count": 24,
     "metadata": {},
     "output_type": "execute_result"
    },
    {
     "data": {
      "image/png": "[encoded data removed]",
      "text/plain": [
       "<matplotlib.figure.Figure at 0x12cc713c8>"
      ]
     },
     "metadata": {},
     "output_type": "display_data"
    },
    {
     "data": {
      "image/png": "[encoded data removed]",
      "text/plain": [
       "<matplotlib.figure.Figure at 0x12cfeb4a8>"
      ]
     },
     "metadata": {},
     "output_type": "display_data"
    }
   ],
   "source": [
    "todisp = pd.DataFrame(model_serie,columns=['model count'])\n",
    "todisp['year'] = template_years\n",
    "todisp.set_index('year').plot(kind='bar')\n",
    "for_disp.plot(kind='bar')"
   ]
  },
  {
   "cell_type": "markdown",
   "metadata": {},
   "source": [
    "### Fit gaussian\n"
   ]
  },
  {
   "cell_type": "code",
   "execution_count": 25,
   "metadata": {
    "collapsed": true
   },
   "outputs": [],
   "source": [
    "def compute_corr(a,b):\n",
    "    \n",
    "    A = fftpack.fft(a)\n",
    "    B = fftpack.fft(b)\n",
    "    Ar = -A.conjugate()\n",
    "    Br = -B.conjugate()\n",
    "    \n",
    "    delay = numpy.argmax(np.abs(fftpack.ifft(Ar*B))[0:])\n",
    "    corr = numpy.max(np.abs(fftpack.ifft(Ar*B))[0:])\n",
    "    \n",
    "    return delay, corr, np.abs(fftpack.ifft(Ar*B))"
   ]
  },
  {
   "cell_type": "code",
   "execution_count": 26,
   "metadata": {},
   "outputs": [
    {
     "data": {
      "text/plain": [
       "array([ 0.03743563,  0.04241832,  0.04469209,  0.04376681,  0.0443217 ,\n",
       "        0.04854878,  0.06818917,  0.05748805,  0.0525634 ,  0.04944776,\n",
       "        0.05059691,  0.05714288,  0.07967533,  0.11957913,  0.08289825,\n",
       "        0.03518801,  0.02648778,  0.02746207,  0.03209792])"
      ]
     },
     "execution_count": 26,
     "metadata": {},
     "output_type": "execute_result"
    }
   ],
   "source": [
    "delay, corr, arr = compute_corr(model_serie,true_serie)\n",
    "arr"
   ]
  },
  {
   "cell_type": "code",
   "execution_count": 27,
   "metadata": {},
   "outputs": [
    {
     "data": {
      "text/plain": [
       "(2013, 13, 0.11957913492165377)"
      ]
     },
     "execution_count": 27,
     "metadata": {},
     "output_type": "execute_result"
    }
   ],
   "source": [
    "int(death_year) + int(delay), delay, corr"
   ]
  },
  {
   "cell_type": "markdown",
   "metadata": {},
   "source": [
    "### Derivative based analysis"
   ]
  },
  {
   "cell_type": "code",
   "execution_count": 28,
   "metadata": {
    "collapsed": true
   },
   "outputs": [],
   "source": [
    "dff = np.diff(dat['review density'])\n",
    "derivative = pd.DataFrame(np.concatenate([[0.0], dff]),columns=['temporal evolution'])\n",
    "derivative['year'] = list(template_years['review year'])"
   ]
  },
  {
   "cell_type": "code",
   "execution_count": 29,
   "metadata": {},
   "outputs": [
    {
     "data": {
      "text/plain": [
       "<matplotlib.lines.Line2D at 0x12cbe3e48>"
      ]
     },
     "execution_count": 29,
     "metadata": {},
     "output_type": "execute_result"
    },
    {
     "data": {
      "image/png": "[encoded data removed]",
      "text/plain": [
       "<matplotlib.figure.Figure at 0x12cc5bef0>"
      ]
     },
     "metadata": {},
     "output_type": "display_data"
    }
   ],
   "source": [
    "#derivative.plot(kind='scatter', x='year', y='temporal evolution')\n",
    "\n",
    "ax = derivative.set_index('year').plot()\n",
    "ax.axvline(x=death_year, color='red', linestyle='--')\n",
    "ax.axhline(y=0.0, color='black', linestyle='--')"
   ]
  },
  {
   "cell_type": "code",
   "execution_count": 30,
   "metadata": {
    "collapsed": true
   },
   "outputs": [],
   "source": [
    "death_value = derivative.set_index('year')['temporal evolution'].get_value(death_year)\n",
    "#death_value_minusone = derivative.set_index('year')['temporal evolution'].get_value(death_year+1)"
   ]
  },
  {
   "cell_type": "code",
   "execution_count": 31,
   "metadata": {},
   "outputs": [
    {
     "name": "stdout",
     "output_type": "stream",
     "text": [
      "7.810320781032079%\n"
     ]
    }
   ],
   "source": [
    "relative_value = death_value/(np.max(derivative['temporal evolution']))\n",
    "print('{}%'.format(relative_value*100))"
   ]
  }
 ],
 "metadata": {
  "kernelspec": {
   "display_name": "Python 3",
   "language": "python",
   "name": "python3"
  },
  "language_info": {
   "codemirror_mode": {
    "name": "ipython",
    "version": 3
   },
   "file_extension": ".py",
   "mimetype": "text/x-python",
   "name": "python",
   "nbconvert_exporter": "python",
   "pygments_lexer": "ipython3",
   "version": "3.5.3"
  }
 },
 "nbformat": 4,
 "nbformat_minor": 2
}

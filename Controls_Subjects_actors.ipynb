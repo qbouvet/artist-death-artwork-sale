{
 "cells": [
  {
   "cell_type": "code",
   "execution_count": 1,
   "metadata": {
    "collapsed": true
   },
   "outputs": [],
   "source": [
    "#essential imports\n",
    "import pandas as pd\n",
    "import numpy as np\n",
    "import json\n",
    "from pandas.io.json import json_normalize\n",
    "\n",
    "#scraping imports\n",
    "import requests\n",
    "from bs4 import BeautifulSoup\n",
    "\n",
    "#plotting imports\n",
    "%matplotlib inline\n",
    "import matplotlib.pyplot as plt\n",
    "\n",
    "#String matching\n",
    "import re\n",
    "\n",
    "# Date\n",
    "import datetime as dt\n",
    "# Sleep\n",
    "import time\n",
    "\n",
    "# Strict JSON conversion\n",
    "import json \n",
    "import gzip \n",
    "\n",
    "# Progress display\n",
    "from IPython.display import clear_output\n",
    "\n",
    "# Amazon API querying\n",
    "from amazon.api import AmazonAPI\n",
    "from amazon.api import AsinNotFound\n",
    "\n",
    "#garbage collector\n",
    "import gc\n",
    "\n",
    "cps = 4\n",
    "datapath = 'DATA/review_filtered/'\n",
    "f_subjects = datapath+'movie_reviews_matched_'+str(cps)+'cps.csv'\n",
    "f_controls = datapath+'movie_reviews_matched_'+str(cps)+'cps_ctrls.csv'"
   ]
  },
  {
   "cell_type": "markdown",
   "metadata": {},
   "source": [
    "# Load data"
   ]
  },
  {
   "cell_type": "code",
   "execution_count": 2,
   "metadata": {},
   "outputs": [
    {
     "data": {
      "text/html": [
       "<div>\n",
       "<style scoped>\n",
       "    .dataframe tbody tr th:only-of-type {\n",
       "        vertical-align: middle;\n",
       "    }\n",
       "\n",
       "    .dataframe tbody tr th {\n",
       "        vertical-align: top;\n",
       "    }\n",
       "\n",
       "    .dataframe thead th {\n",
       "        text-align: right;\n",
       "    }\n",
       "</style>\n",
       "<table border=\"1\" class=\"dataframe\">\n",
       "  <thead>\n",
       "    <tr style=\"text-align: right;\">\n",
       "      <th></th>\n",
       "      <th>index</th>\n",
       "      <th>asin</th>\n",
       "      <th>strReviewTime</th>\n",
       "      <th>overall</th>\n",
       "      <th>helpful</th>\n",
       "      <th>summary</th>\n",
       "      <th>reviewText</th>\n",
       "      <th>actor name</th>\n",
       "      <th>death date</th>\n",
       "    </tr>\n",
       "  </thead>\n",
       "  <tbody>\n",
       "    <tr>\n",
       "      <th>0</th>\n",
       "      <td>308659</td>\n",
       "      <td>0792840461</td>\n",
       "      <td>2006-04-07</td>\n",
       "      <td>4.0</td>\n",
       "      <td>[1, 3]</td>\n",
       "      <td>The orginal</td>\n",
       "      <td>The Original and the best-not much to say read...</td>\n",
       "      <td>jack weston</td>\n",
       "      <td>1996-05-03</td>\n",
       "    </tr>\n",
       "    <tr>\n",
       "      <th>1</th>\n",
       "      <td>308660</td>\n",
       "      <td>0792840461</td>\n",
       "      <td>2013-03-24</td>\n",
       "      <td>5.0</td>\n",
       "      <td>[0, 0]</td>\n",
       "      <td>Steve McQueen invented cool</td>\n",
       "      <td>This was a great movie Steve McQueen invented ...</td>\n",
       "      <td>jack weston</td>\n",
       "      <td>1996-05-03</td>\n",
       "    </tr>\n",
       "    <tr>\n",
       "      <th>2</th>\n",
       "      <td>308661</td>\n",
       "      <td>0792840461</td>\n",
       "      <td>2014-04-05</td>\n",
       "      <td>4.0</td>\n",
       "      <td>[1, 1]</td>\n",
       "      <td>Where The Dough Is</td>\n",
       "      <td>Everybody knows banks, whether in storefronts,...</td>\n",
       "      <td>jack weston</td>\n",
       "      <td>1996-05-03</td>\n",
       "    </tr>\n",
       "  </tbody>\n",
       "</table>\n",
       "</div>"
      ],
      "text/plain": [
       "    index        asin strReviewTime  overall helpful  \\\n",
       "0  308659  0792840461    2006-04-07      4.0  [1, 3]   \n",
       "1  308660  0792840461    2013-03-24      5.0  [0, 0]   \n",
       "2  308661  0792840461    2014-04-05      4.0  [1, 1]   \n",
       "\n",
       "                       summary  \\\n",
       "0                  The orginal   \n",
       "1  Steve McQueen invented cool   \n",
       "2           Where The Dough Is   \n",
       "\n",
       "                                          reviewText   actor name  death date  \n",
       "0  The Original and the best-not much to say read...  jack weston  1996-05-03  \n",
       "1  This was a great movie Steve McQueen invented ...  jack weston  1996-05-03  \n",
       "2  Everybody knows banks, whether in storefronts,...  jack weston  1996-05-03  "
      ]
     },
     "execution_count": 2,
     "metadata": {},
     "output_type": "execute_result"
    }
   ],
   "source": [
    "subjects_actors = pd.read_csv(f_subjects).drop('Unnamed: 0',axis=1)\n",
    "subjects_actors = subjects_actors.rename(columns={'reviewTime' : 'strReviewTime'})\n",
    "subjects_actors.head(3)"
   ]
  },
  {
   "cell_type": "code",
   "execution_count": 3,
   "metadata": {},
   "outputs": [
    {
     "data": {
      "text/html": [
       "<div>\n",
       "<style scoped>\n",
       "    .dataframe tbody tr th:only-of-type {\n",
       "        vertical-align: middle;\n",
       "    }\n",
       "\n",
       "    .dataframe tbody tr th {\n",
       "        vertical-align: top;\n",
       "    }\n",
       "\n",
       "    .dataframe thead th {\n",
       "        text-align: right;\n",
       "    }\n",
       "</style>\n",
       "<table border=\"1\" class=\"dataframe\">\n",
       "  <thead>\n",
       "    <tr style=\"text-align: right;\">\n",
       "      <th></th>\n",
       "      <th>index</th>\n",
       "      <th>asin</th>\n",
       "      <th>strReviewTime</th>\n",
       "      <th>overall</th>\n",
       "      <th>helpful</th>\n",
       "      <th>summary</th>\n",
       "      <th>reviewText</th>\n",
       "      <th>actor name</th>\n",
       "    </tr>\n",
       "  </thead>\n",
       "  <tbody>\n",
       "    <tr>\n",
       "      <th>0</th>\n",
       "      <td>827321</td>\n",
       "      <td>630327417X</td>\n",
       "      <td>2009-10-15</td>\n",
       "      <td>5.0</td>\n",
       "      <td>[0, 1]</td>\n",
       "      <td>Great Movie</td>\n",
       "      <td>Nothing bad to say. Dvd came quickly and in gr...</td>\n",
       "      <td>michael hynson</td>\n",
       "    </tr>\n",
       "    <tr>\n",
       "      <th>1</th>\n",
       "      <td>827322</td>\n",
       "      <td>630327417X</td>\n",
       "      <td>2000-09-16</td>\n",
       "      <td>5.0</td>\n",
       "      <td>[0, 0]</td>\n",
       "      <td>endless summer</td>\n",
       "      <td>its just to good for words!</td>\n",
       "      <td>michael hynson</td>\n",
       "    </tr>\n",
       "    <tr>\n",
       "      <th>2</th>\n",
       "      <td>827323</td>\n",
       "      <td>630327417X</td>\n",
       "      <td>2005-03-03</td>\n",
       "      <td>1.0</td>\n",
       "      <td>[5, 58]</td>\n",
       "      <td>A very disappointed lover of documentaries</td>\n",
       "      <td>I feel obligated to warn you-as I wish I was w...</td>\n",
       "      <td>michael hynson</td>\n",
       "    </tr>\n",
       "  </tbody>\n",
       "</table>\n",
       "</div>"
      ],
      "text/plain": [
       "    index        asin strReviewTime  overall  helpful  \\\n",
       "0  827321  630327417X    2009-10-15      5.0   [0, 1]   \n",
       "1  827322  630327417X    2000-09-16      5.0   [0, 0]   \n",
       "2  827323  630327417X    2005-03-03      1.0  [5, 58]   \n",
       "\n",
       "                                      summary  \\\n",
       "0                                 Great Movie   \n",
       "1                              endless summer   \n",
       "2  A very disappointed lover of documentaries   \n",
       "\n",
       "                                          reviewText      actor name  \n",
       "0  Nothing bad to say. Dvd came quickly and in gr...  michael hynson  \n",
       "1                        its just to good for words!  michael hynson  \n",
       "2  I feel obligated to warn you-as I wish I was w...  michael hynson  "
      ]
     },
     "execution_count": 3,
     "metadata": {},
     "output_type": "execute_result"
    }
   ],
   "source": [
    "controls_actors = pd.read_csv(f_controls).drop('Unnamed: 0',axis=1)\n",
    "controls_actors = controls_actors.rename(columns={'reviewTime' : 'strReviewTime'})\n",
    "controls_actors.head(3)"
   ]
  },
  {
   "cell_type": "markdown",
   "metadata": {},
   "source": [
    "# Convert dates to timestamps / years"
   ]
  },
  {
   "cell_type": "markdown",
   "metadata": {},
   "source": [
    "Convert dates to year and extract and set aside actor<-> deathdates"
   ]
  },
  {
   "cell_type": "code",
   "execution_count": 4,
   "metadata": {},
   "outputs": [],
   "source": [
    "#counts = subjects_actors.groupby('actor name').count()\n",
    "#subjects_actors['death date'] = pd.to_datetime('2001').year\n",
    "\n",
    "''' Takes a serie !\n",
    "'''\n",
    "def strdateToYear(date) : \n",
    "    return int(date[:4])\n",
    "\n",
    "# SUBJECTS\n",
    "subjects_actors['reviewYear'] = subjects_actors['strReviewTime'].apply(strdateToYear)\n",
    "subjects_actors['reviewTime'] = pd.to_datetime(subjects_actors['strReviewTime'])\n",
    "subjects_actors['death year'] = subjects_actors['death date'].apply(strdateToYear)\n",
    "subjects_actors['death date'] = pd.to_datetime(subjects_actors['death date'])\n",
    "\n",
    "# CONTROLS\n",
    "controls_actors['reviewYear'] = controls_actors['strReviewTime'].apply(strdateToYear)\n",
    "controls_actors['reviewTime'] = pd.to_datetime(controls_actors['strReviewTime'])"
   ]
  },
  {
   "cell_type": "markdown",
   "metadata": {},
   "source": [
    "Extract death dates and subjects names"
   ]
  },
  {
   "cell_type": "code",
   "execution_count": 5,
   "metadata": {},
   "outputs": [
    {
     "data": {
      "text/html": [
       "<div>\n",
       "<style scoped>\n",
       "    .dataframe tbody tr th:only-of-type {\n",
       "        vertical-align: middle;\n",
       "    }\n",
       "\n",
       "    .dataframe tbody tr th {\n",
       "        vertical-align: top;\n",
       "    }\n",
       "\n",
       "    .dataframe thead th {\n",
       "        text-align: right;\n",
       "    }\n",
       "</style>\n",
       "<table border=\"1\" class=\"dataframe\">\n",
       "  <thead>\n",
       "    <tr style=\"text-align: right;\">\n",
       "      <th></th>\n",
       "      <th>actor name</th>\n",
       "      <th>death date</th>\n",
       "      <th>death year</th>\n",
       "    </tr>\n",
       "  </thead>\n",
       "  <tbody>\n",
       "    <tr>\n",
       "      <th>0</th>\n",
       "      <td>adriana caselotti</td>\n",
       "      <td>1997-01-19</td>\n",
       "      <td>1997</td>\n",
       "    </tr>\n",
       "    <tr>\n",
       "      <th>1</th>\n",
       "      <td>adrienne shelly</td>\n",
       "      <td>2006-11-01</td>\n",
       "      <td>2006</td>\n",
       "    </tr>\n",
       "    <tr>\n",
       "      <th>2</th>\n",
       "      <td>al martino</td>\n",
       "      <td>2009-10-13</td>\n",
       "      <td>2009</td>\n",
       "    </tr>\n",
       "    <tr>\n",
       "      <th>3</th>\n",
       "      <td>alain bashung</td>\n",
       "      <td>2009-03-14</td>\n",
       "      <td>2009</td>\n",
       "    </tr>\n",
       "    <tr>\n",
       "      <th>4</th>\n",
       "      <td>alan bates</td>\n",
       "      <td>2003-12-27</td>\n",
       "      <td>2003</td>\n",
       "    </tr>\n",
       "  </tbody>\n",
       "</table>\n",
       "</div>"
      ],
      "text/plain": [
       "          actor name death date  death year\n",
       "0  adriana caselotti 1997-01-19        1997\n",
       "1    adrienne shelly 2006-11-01        2006\n",
       "2         al martino 2009-10-13        2009\n",
       "3      alain bashung 2009-03-14        2009\n",
       "4         alan bates 2003-12-27        2003"
      ]
     },
     "execution_count": 5,
     "metadata": {},
     "output_type": "execute_result"
    }
   ],
   "source": [
    "deathdates = subjects_actors.groupby(['actor name','death date', 'death year']).count()\\\n",
    "                            .reset_index()[['actor name', 'death date', 'death year']]\n",
    "sbj_names = list(deathdates['actor name'])\n",
    "deathdates.head()"
   ]
  },
  {
   "cell_type": "markdown",
   "metadata": {},
   "source": [
    "Extract controls names"
   ]
  },
  {
   "cell_type": "code",
   "execution_count": 6,
   "metadata": {
    "collapsed": true
   },
   "outputs": [],
   "source": [
    "ctrl_names = list(set(controls_actors['actor name']))"
   ]
  },
  {
   "cell_type": "markdown",
   "metadata": {},
   "source": [
    "# Pre-filtering"
   ]
  },
  {
   "cell_type": "markdown",
   "metadata": {},
   "source": [
    "### Filtering on populatiry"
   ]
  },
  {
   "cell_type": "markdown",
   "metadata": {},
   "source": [
    "Filter actors based on their popularity: they should be mentioned at least once in the reviews. It is a way to be sure the reviewers know the actor."
   ]
  },
  {
   "cell_type": "code",
   "execution_count": 7,
   "metadata": {
    "collapsed": true
   },
   "outputs": [],
   "source": [
    "thresh_pop = 1\n",
    "\n",
    "def mentionsName(row) : \n",
    "    if type(row['reviewText']) is str :\n",
    "        names = row['actor name'].split(' ')\n",
    "        text =  row['reviewText'].lower()\n",
    "        # can mention only name or surname\n",
    "        #return row['actor name'] in row['reviewText']\n",
    "        for name in names : \n",
    "            if name in text : \n",
    "                return True\n",
    "        return False\n",
    "    else : return False"
   ]
  },
  {
   "cell_type": "code",
   "execution_count": 8,
   "metadata": {},
   "outputs": [
    {
     "data": {
      "text/plain": [
       "((597276, 13), (130234, 13))"
      ]
     },
     "execution_count": 8,
     "metadata": {},
     "output_type": "execute_result"
    }
   ],
   "source": [
    "subjects_actors['mentionned'] = subjects_actors.apply(mentionsName, axis=1)\n",
    "subjects_actors.shape, subjects_actors[subjects_actors['mentionned']==True].shape"
   ]
  },
  {
   "cell_type": "code",
   "execution_count": 9,
   "metadata": {},
   "outputs": [
    {
     "name": "stdout",
     "output_type": "stream",
     "text": [
      "501  reduced to (460,)\n"
     ]
    },
    {
     "data": {
      "text/plain": [
       "actor name\n",
       "james stewart        4135\n",
       "paul newman          3119\n",
       "charlton heston      3031\n",
       "gregory peck         2618\n",
       "marlon brando        2592\n",
       "jack lemmon          2367\n",
       "james garner         2347\n",
       "katharine hepburn    2293\n",
       "robert mitchum       2089\n",
       "charles bronson      2028\n",
       "Name: asin, dtype: int64"
      ]
     },
     "execution_count": 9,
     "metadata": {},
     "output_type": "execute_result"
    }
   ],
   "source": [
    "## Not necessarily needed, count of mentions are still in the reviews dataframe\n",
    "##\n",
    "sbj_popular = subjects_actors[subjects_actors['mentionned']==True]\n",
    "sbj_popular = sbj_popular.groupby('actor name').count()['asin']\n",
    "print(len(sbj_names), \" reduced to\", sbj_popular.shape)\n",
    "sbj_popular.sort_values(ascending=False)[:10]"
   ]
  },
  {
   "cell_type": "code",
   "execution_count": 10,
   "metadata": {},
   "outputs": [
    {
     "data": {
      "text/plain": [
       "((285071, 11), (42178, 11))"
      ]
     },
     "execution_count": 10,
     "metadata": {},
     "output_type": "execute_result"
    }
   ],
   "source": [
    "controls_actors['mentionned'] = controls_actors.apply(mentionsName, axis=1)\n",
    "controls_actors.shape, controls_actors[controls_actors['mentionned']==True].shape"
   ]
  },
  {
   "cell_type": "code",
   "execution_count": 11,
   "metadata": {},
   "outputs": [
    {
     "name": "stdout",
     "output_type": "stream",
     "text": [
      "2419  reduced to (1215,)\n"
     ]
    },
    {
     "data": {
      "text/plain": [
       "actor name\n",
       "matt damon            6017\n",
       "steve martin          3266\n",
       "tyler perry           2870\n",
       "ian anderson          1213\n",
       "laurence fishburne    1198\n",
       "liev schreiber        1060\n",
       "michelle williams     1058\n",
       "marc m                 896\n",
       "maggie gyllenhaal      867\n",
       "robert taylor          749\n",
       "Name: asin, dtype: int64"
      ]
     },
     "execution_count": 11,
     "metadata": {},
     "output_type": "execute_result"
    }
   ],
   "source": [
    "## Not necessarily needed, count of mentions are still in the reviews dataframe\n",
    "##\n",
    "ctl_popular = controls_actors[controls_actors['mentionned']==True]\n",
    "ctl_popular = ctl_popular.groupby('actor name').count()['asin']\n",
    "print(len(ctrl_names), \" reduced to\", ctl_popular.shape)\n",
    "ctl_popular.sort_values(ascending=False)[:10]"
   ]
  },
  {
   "cell_type": "markdown",
   "metadata": {},
   "source": [
    "### Filtering on date (2004-2013)"
   ]
  },
  {
   "cell_type": "code",
   "execution_count": 12,
   "metadata": {
    "scrolled": false
   },
   "outputs": [
    {
     "name": "stdout",
     "output_type": "stream",
     "text": [
      "original size :  (597276, 13)\n",
      "filtered size :  (597276, 13)\n"
     ]
    },
    {
     "data": {
      "text/html": [
       "<div>\n",
       "<style scoped>\n",
       "    .dataframe tbody tr th:only-of-type {\n",
       "        vertical-align: middle;\n",
       "    }\n",
       "\n",
       "    .dataframe tbody tr th {\n",
       "        vertical-align: top;\n",
       "    }\n",
       "\n",
       "    .dataframe thead th {\n",
       "        text-align: right;\n",
       "    }\n",
       "</style>\n",
       "<table border=\"1\" class=\"dataframe\">\n",
       "  <thead>\n",
       "    <tr style=\"text-align: right;\">\n",
       "      <th></th>\n",
       "      <th>index</th>\n",
       "      <th>asin</th>\n",
       "      <th>strReviewTime</th>\n",
       "      <th>overall</th>\n",
       "      <th>helpful</th>\n",
       "      <th>summary</th>\n",
       "      <th>reviewText</th>\n",
       "      <th>actor name</th>\n",
       "      <th>death date</th>\n",
       "      <th>reviewYear</th>\n",
       "      <th>reviewTime</th>\n",
       "      <th>death year</th>\n",
       "      <th>mentionned</th>\n",
       "    </tr>\n",
       "  </thead>\n",
       "  <tbody>\n",
       "    <tr>\n",
       "      <th>0</th>\n",
       "      <td>308659</td>\n",
       "      <td>0792840461</td>\n",
       "      <td>2006-04-07</td>\n",
       "      <td>4.0</td>\n",
       "      <td>[1, 3]</td>\n",
       "      <td>The orginal</td>\n",
       "      <td>The Original and the best-not much to say read...</td>\n",
       "      <td>jack weston</td>\n",
       "      <td>1996-05-03</td>\n",
       "      <td>2006</td>\n",
       "      <td>2006-04-07</td>\n",
       "      <td>1996</td>\n",
       "      <td>False</td>\n",
       "    </tr>\n",
       "    <tr>\n",
       "      <th>1</th>\n",
       "      <td>308660</td>\n",
       "      <td>0792840461</td>\n",
       "      <td>2013-03-24</td>\n",
       "      <td>5.0</td>\n",
       "      <td>[0, 0]</td>\n",
       "      <td>Steve McQueen invented cool</td>\n",
       "      <td>This was a great movie Steve McQueen invented ...</td>\n",
       "      <td>jack weston</td>\n",
       "      <td>1996-05-03</td>\n",
       "      <td>2013</td>\n",
       "      <td>2013-03-24</td>\n",
       "      <td>1996</td>\n",
       "      <td>False</td>\n",
       "    </tr>\n",
       "    <tr>\n",
       "      <th>2</th>\n",
       "      <td>308661</td>\n",
       "      <td>0792840461</td>\n",
       "      <td>2014-04-05</td>\n",
       "      <td>4.0</td>\n",
       "      <td>[1, 1]</td>\n",
       "      <td>Where The Dough Is</td>\n",
       "      <td>Everybody knows banks, whether in storefronts,...</td>\n",
       "      <td>jack weston</td>\n",
       "      <td>1996-05-03</td>\n",
       "      <td>2014</td>\n",
       "      <td>2014-04-05</td>\n",
       "      <td>1996</td>\n",
       "      <td>False</td>\n",
       "    </tr>\n",
       "  </tbody>\n",
       "</table>\n",
       "</div>"
      ],
      "text/plain": [
       "    index        asin strReviewTime  overall helpful  \\\n",
       "0  308659  0792840461    2006-04-07      4.0  [1, 3]   \n",
       "1  308660  0792840461    2013-03-24      5.0  [0, 0]   \n",
       "2  308661  0792840461    2014-04-05      4.0  [1, 1]   \n",
       "\n",
       "                       summary  \\\n",
       "0                  The orginal   \n",
       "1  Steve McQueen invented cool   \n",
       "2           Where The Dough Is   \n",
       "\n",
       "                                          reviewText   actor name death date  \\\n",
       "0  The Original and the best-not much to say read...  jack weston 1996-05-03   \n",
       "1  This was a great movie Steve McQueen invented ...  jack weston 1996-05-03   \n",
       "2  Everybody knows banks, whether in storefronts,...  jack weston 1996-05-03   \n",
       "\n",
       "   reviewYear reviewTime  death year  mentionned  \n",
       "0        2006 2006-04-07        1996       False  \n",
       "1        2013 2013-03-24        1996       False  \n",
       "2        2014 2014-04-05        1996       False  "
      ]
     },
     "execution_count": 12,
     "metadata": {},
     "output_type": "execute_result"
    }
   ],
   "source": [
    "start = 1996\n",
    "end = 2014\n",
    "\n",
    "print('original size : ', subjects_actors.shape)\n",
    "subjects_inTime = subjects_actors[    (subjects_actors['death year']>=start) \\\n",
    "                                    & (subjects_actors['death year']<=end)]\n",
    "print('filtered size : ', subjects_inTime.shape)\n",
    "subjects_inTime.head(3)"
   ]
  },
  {
   "cell_type": "markdown",
   "metadata": {},
   "source": [
    "# Get matching features"
   ]
  },
  {
   "cell_type": "markdown",
   "metadata": {},
   "source": [
    "Extract features for subjects"
   ]
  },
  {
   "cell_type": "code",
   "execution_count": 13,
   "metadata": {
    "scrolled": false
   },
   "outputs": [
    {
     "data": {
      "text/html": [
       "<div>\n",
       "<style scoped>\n",
       "    .dataframe tbody tr th:only-of-type {\n",
       "        vertical-align: middle;\n",
       "    }\n",
       "\n",
       "    .dataframe tbody tr th {\n",
       "        vertical-align: top;\n",
       "    }\n",
       "\n",
       "    .dataframe thead th {\n",
       "        text-align: right;\n",
       "    }\n",
       "</style>\n",
       "<table border=\"1\" class=\"dataframe\">\n",
       "  <thead>\n",
       "    <tr style=\"text-align: right;\">\n",
       "      <th></th>\n",
       "      <th>reviews</th>\n",
       "      <th>actor name</th>\n",
       "      <th>death year</th>\n",
       "    </tr>\n",
       "  </thead>\n",
       "  <tbody>\n",
       "    <tr>\n",
       "      <th>228</th>\n",
       "      <td>2054</td>\n",
       "      <td>james garner</td>\n",
       "      <td>2014</td>\n",
       "    </tr>\n",
       "    <tr>\n",
       "      <th>389</th>\n",
       "      <td>1550</td>\n",
       "      <td>philip seymour hoffman</td>\n",
       "      <td>2014</td>\n",
       "    </tr>\n",
       "    <tr>\n",
       "      <th>357</th>\n",
       "      <td>1425</td>\n",
       "      <td>mickey rooney</td>\n",
       "      <td>2014</td>\n",
       "    </tr>\n",
       "    <tr>\n",
       "      <th>140</th>\n",
       "      <td>1112</td>\n",
       "      <td>eli wallach</td>\n",
       "      <td>2014</td>\n",
       "    </tr>\n",
       "    <tr>\n",
       "      <th>51</th>\n",
       "      <td>1057</td>\n",
       "      <td>bob hoskins</td>\n",
       "      <td>2014</td>\n",
       "    </tr>\n",
       "  </tbody>\n",
       "</table>\n",
       "</div>"
      ],
      "text/plain": [
       "     reviews              actor name  death year\n",
       "228     2054            james garner        2014\n",
       "389     1550  philip seymour hoffman        2014\n",
       "357     1425           mickey rooney        2014\n",
       "140     1112             eli wallach        2014\n",
       "51      1057             bob hoskins        2014"
      ]
     },
     "execution_count": 13,
     "metadata": {},
     "output_type": "execute_result"
    }
   ],
   "source": [
    "# SUBJECTS COUNTS BY YEAR\n",
    "subjects_revs = subjects_actors.groupby(['actor name','reviewYear']).count()\n",
    "\n",
    "\n",
    "def getreview(actor, year) : \n",
    "    try : \n",
    "        val = subjects_revs.loc[actor, year]['asin']\n",
    "        return val\n",
    "    except TypeError :\n",
    "        return 0\n",
    "    \n",
    "\n",
    "# FILTER TO GET THE DEATH YEAR COUNT - 1\n",
    "subjects_feats = deathdates[1:].apply(lambda row : getreview(row['actor name'], int(row['death year'])-1), axis=1)\n",
    "subjects_feats = pd.DataFrame(subjects_feats, columns=['reviews'])\n",
    "subjects_feats['actor name'] = deathdates['actor name']\n",
    "subjects_feats['death year'] = deathdates['death year']\n",
    "\n",
    "subjects_feats.sort_values(by='reviews', ascending=False).head()"
   ]
  },
  {
   "cell_type": "markdown",
   "metadata": {},
   "source": [
    "Extract features for subjects"
   ]
  },
  {
   "cell_type": "code",
   "execution_count": 14,
   "metadata": {},
   "outputs": [],
   "source": [
    "controls_revs = controls_actors.groupby(['actor name','reviewYear'])\\\n",
    "                                .count()['asin']\\\n",
    "                                .to_frame().reset_index()"
   ]
  },
  {
   "cell_type": "code",
   "execution_count": 15,
   "metadata": {},
   "outputs": [
    {
     "data": {
      "text/html": [
       "<div>\n",
       "<style scoped>\n",
       "    .dataframe tbody tr th:only-of-type {\n",
       "        vertical-align: middle;\n",
       "    }\n",
       "\n",
       "    .dataframe tbody tr th {\n",
       "        vertical-align: top;\n",
       "    }\n",
       "\n",
       "    .dataframe thead th {\n",
       "        text-align: right;\n",
       "    }\n",
       "</style>\n",
       "<table border=\"1\" class=\"dataframe\">\n",
       "  <thead>\n",
       "    <tr style=\"text-align: right;\">\n",
       "      <th></th>\n",
       "      <th>actor name</th>\n",
       "      <th>reviewYear</th>\n",
       "      <th>asin</th>\n",
       "    </tr>\n",
       "  </thead>\n",
       "  <tbody>\n",
       "    <tr>\n",
       "      <th>12911</th>\n",
       "      <td>zuzana parmova</td>\n",
       "      <td>2001</td>\n",
       "      <td>1</td>\n",
       "    </tr>\n",
       "    <tr>\n",
       "      <th>12912</th>\n",
       "      <td>zuzana parmova</td>\n",
       "      <td>2004</td>\n",
       "      <td>1</td>\n",
       "    </tr>\n",
       "    <tr>\n",
       "      <th>12905</th>\n",
       "      <td>zuhal gencer</td>\n",
       "      <td>2005</td>\n",
       "      <td>6</td>\n",
       "    </tr>\n",
       "    <tr>\n",
       "      <th>12907</th>\n",
       "      <td>zuhal gencer</td>\n",
       "      <td>2007</td>\n",
       "      <td>5</td>\n",
       "    </tr>\n",
       "    <tr>\n",
       "      <th>12906</th>\n",
       "      <td>zuhal gencer</td>\n",
       "      <td>2006</td>\n",
       "      <td>4</td>\n",
       "    </tr>\n",
       "  </tbody>\n",
       "</table>\n",
       "</div>"
      ],
      "text/plain": [
       "           actor name  reviewYear  asin\n",
       "12911  zuzana parmova        2001     1\n",
       "12912  zuzana parmova        2004     1\n",
       "12905    zuhal gencer        2005     6\n",
       "12907    zuhal gencer        2007     5\n",
       "12906    zuhal gencer        2006     4"
      ]
     },
     "execution_count": 15,
     "metadata": {},
     "output_type": "execute_result"
    }
   ],
   "source": [
    "controls_revs.sort_values(by=['actor name', 'asin'], ascending=False).head()"
   ]
  },
  {
   "cell_type": "markdown",
   "metadata": {},
   "source": [
    "# Matching"
   ]
  },
  {
   "cell_type": "markdown",
   "metadata": {},
   "source": [
    "Construct a matching function per subject"
   ]
  },
  {
   "cell_type": "code",
   "execution_count": 16,
   "metadata": {
    "collapsed": true
   },
   "outputs": [],
   "source": [
    "def match(actorname, threshold, ctrl_revs) : \n",
    "\n",
    "    # extract the useful features for the subject \n",
    "    sbj_actor = subjects_feats[subjects_feats['actor name'] == actorname]\n",
    "    deathyear = int(sbj_actor['death year'])\n",
    "    sbj_revs = int(sbj_actor['reviews'])\n",
    "    \n",
    "    #find the non zero reviews count for the year preceding the death of the subject\n",
    "    mapp = (ctrl_revs['reviewYear']==(deathyear-1))\n",
    "    \n",
    "    \n",
    "    if (sbj_revs == 0) and (not ctrl_revs[mapp==False].empty):\n",
    "        \n",
    "        # zero count subjects are matched with zero count controls \n",
    "        matched_name = ctrl_revs[mapp==False].reset_index()['actor name'].get_value(0)\n",
    "        matched_count = 0\n",
    "        \n",
    "        # delete the matched control \n",
    "        ctrl_revs = ctrl_revs[ctrl_revs['actor name'].isin([matched_name])==False]\n",
    "        \n",
    "        return matched_name, matched_count, ctrl_revs\n",
    "    \n",
    "    \n",
    "    if mapp.any():\n",
    "        \n",
    "        for row in ctrl_revs[mapp].iterrows():\n",
    "            #print(np.abs(sbj_revs-row[1]['asin']))\n",
    "                   \n",
    "            if np.abs(sbj_revs-row[1]['asin']) < threshold :\n",
    "                \n",
    "                matched_name = row[1]['actor name']\n",
    "                matched_count = row[1]['asin']\n",
    "                \n",
    "                # delete the matched control\n",
    "                ctrl_revs = ctrl_revs[ctrl_revs['actor name'].isin([matched_name])==False]\n",
    "                \n",
    "                return matched_name, matched_count, ctrl_revs\n",
    "    else:\n",
    "        \n",
    "        matched_name = ctrl_revs.reset_index()['actor name'].get_value(0)\n",
    "        matched_count = 0\n",
    "        \n",
    "        #delete the matched control\n",
    "        ctrl_revs = ctrl_revs[ctrl_revs['actor name'].isin([matched_name])==False]\n",
    "        \n",
    "        return matched_name, matched_count, ctrl_revs\n",
    "    \n",
    "    \n",
    "    return 0, 0, ctrl_revs  \n"
   ]
  },
  {
   "cell_type": "code",
   "execution_count": 17,
   "metadata": {},
   "outputs": [
    {
     "name": "stdout",
     "output_type": "stream",
     "text": [
      "2419 501\n"
     ]
    }
   ],
   "source": [
    "ctrl_revs = controls_revs.copy()\n",
    "\n",
    "print(len(ctrl_names), len(sbj_names))"
   ]
  },
  {
   "cell_type": "code",
   "execution_count": 18,
   "metadata": {
    "scrolled": false
   },
   "outputs": [
    {
     "name": "stdout",
     "output_type": "stream",
     "text": [
      "0 out of  500\n",
      "james garner reached threshold  51\n",
      "james garner reached threshold  63\n",
      "philip seymour hoffman reached threshold  51\n",
      "philip seymour hoffman reached threshold  63\n",
      "mickey rooney reached threshold  51\n",
      "paul newman reached threshold  51\n",
      "paul newman reached threshold  63\n",
      "george carlin reached threshold  51\n",
      "george carlin reached threshold  63\n",
      "charlton heston reached threshold  51\n",
      "charlton heston reached threshold  63\n",
      "dennis hopper reached threshold  51\n",
      "andy whitfield reached threshold  51\n",
      "andy whitfield reached threshold  63\n",
      "leslie nielsen reached threshold  51\n",
      "leslie nielsen reached threshold  63\n",
      "ernest borgnine reached threshold  51\n",
      "andy griffith reached threshold  51\n",
      "andy griffith reached threshold  63\n",
      "peter falk reached threshold  51\n",
      "peter falk reached threshold  63\n",
      "jack lemmon reached threshold  51\n",
      "jack lemmon reached threshold  63\n",
      "50 out of  500\n",
      "100 out of  500\n",
      "150 out of  500\n",
      "200 out of  500\n",
      "250 out of  500\n",
      "300 out of  500\n"
     ]
    },
    {
     "name": "stderr",
     "output_type": "stream",
     "text": [
      "/usr/lib/python3.6/site-packages/ipykernel/__main__.py:15: FutureWarning: get_value is deprecated and will be removed in a future release. Please use .at[] or .iat[] accessors instead\n"
     ]
    },
    {
     "name": "stdout",
     "output_type": "stream",
     "text": [
      "350 out of  500\n",
      "400 out of  500\n",
      "450 out of  500\n"
     ]
    }
   ],
   "source": [
    "thresh = 5\n",
    "ctrl_revs = controls_revs.copy()\n",
    "sorted_subjects = subjects_feats.sort_values(by='reviews', ascending=False)\n",
    "ctrl_list = [] # stores the name of matched controls\n",
    "count_list = [] # stores the features of matched controls\n",
    "matchings = []\n",
    "\n",
    "for idx, subject_name in enumerate(sorted_subjects['actor name']):\n",
    "    \n",
    "    if idx%50 == 0: \n",
    "        print(idx, \"out of \", len(subjects_feats['actor name']))\n",
    "    \n",
    "    mtch = 0\n",
    "    thr = thresh\n",
    "\n",
    "    while mtch == 0:\n",
    "        \n",
    "        thr += int(0.25*thr)\n",
    "        \n",
    "        if thr > 50 and thr < 70  : \n",
    "            print(subject_name+' reached threshold ', thr)\n",
    "        if thr > 1000 and thr < 1499  : \n",
    "            print(subject_name+' reached threshold ', thr)\n",
    "        if thr > 10000 : \n",
    "            print(subject_name+' reached threshold > 10000 (won\\'t match)')\n",
    "        \n",
    "        name, count, ctrl_revs_ = match(subject_name,thr,ctrl_revs)\n",
    "        ctrl_revs = ctrl_revs_.sample(frac=1) \n",
    "        \n",
    "        \n",
    "        if name != 0:\n",
    "            #rint(subject_name+' matched with '+name)\n",
    "            \n",
    "            ctrl_list.append(name)\n",
    "            count_list.append(count)\n",
    "            matchings.append((subject_name, name))\n",
    "            mtch += 1"
   ]
  },
  {
   "cell_type": "markdown",
   "metadata": {},
   "source": [
    "# Results"
   ]
  },
  {
   "cell_type": "code",
   "execution_count": 19,
   "metadata": {
    "scrolled": false
   },
   "outputs": [
    {
     "data": {
      "text/html": [
       "<div>\n",
       "<style scoped>\n",
       "    .dataframe tbody tr th:only-of-type {\n",
       "        vertical-align: middle;\n",
       "    }\n",
       "\n",
       "    .dataframe tbody tr th {\n",
       "        vertical-align: top;\n",
       "    }\n",
       "\n",
       "    .dataframe thead th {\n",
       "        text-align: right;\n",
       "    }\n",
       "</style>\n",
       "<table border=\"1\" class=\"dataframe\">\n",
       "  <thead>\n",
       "    <tr style=\"text-align: right;\">\n",
       "      <th></th>\n",
       "      <th>ctrl_name</th>\n",
       "      <th>ctrl_reviews</th>\n",
       "      <th>reviews</th>\n",
       "      <th>actor name</th>\n",
       "      <th>death year</th>\n",
       "      <th>error</th>\n",
       "    </tr>\n",
       "  </thead>\n",
       "  <tbody>\n",
       "    <tr>\n",
       "      <th>297</th>\n",
       "      <td>aidan kelley</td>\n",
       "      <td>6</td>\n",
       "      <td>1</td>\n",
       "      <td>nagisa oshima</td>\n",
       "      <td>2013</td>\n",
       "      <td>0.312500</td>\n",
       "    </tr>\n",
       "    <tr>\n",
       "      <th>246</th>\n",
       "      <td>lucien bruchon</td>\n",
       "      <td>1</td>\n",
       "      <td>6</td>\n",
       "      <td>jules dassin</td>\n",
       "      <td>2008</td>\n",
       "      <td>0.312500</td>\n",
       "    </tr>\n",
       "    <tr>\n",
       "      <th>243</th>\n",
       "      <td>firesign theater</td>\n",
       "      <td>1</td>\n",
       "      <td>6</td>\n",
       "      <td>michelangelo antonioni</td>\n",
       "      <td>2007</td>\n",
       "      <td>0.312500</td>\n",
       "    </tr>\n",
       "    <tr>\n",
       "      <th>249</th>\n",
       "      <td>charles cane</td>\n",
       "      <td>1</td>\n",
       "      <td>5</td>\n",
       "      <td>simone simon</td>\n",
       "      <td>2005</td>\n",
       "      <td>0.285714</td>\n",
       "    </tr>\n",
       "    <tr>\n",
       "      <th>248</th>\n",
       "      <td>nagatoshi sakamoto</td>\n",
       "      <td>1</td>\n",
       "      <td>5</td>\n",
       "      <td>glenn quinn</td>\n",
       "      <td>2002</td>\n",
       "      <td>0.285714</td>\n",
       "    </tr>\n",
       "  </tbody>\n",
       "</table>\n",
       "</div>"
      ],
      "text/plain": [
       "              ctrl_name  ctrl_reviews  reviews              actor name  \\\n",
       "297        aidan kelley             6        1           nagisa oshima   \n",
       "246      lucien bruchon             1        6            jules dassin   \n",
       "243    firesign theater             1        6  michelangelo antonioni   \n",
       "249        charles cane             1        5            simone simon   \n",
       "248  nagatoshi sakamoto             1        5             glenn quinn   \n",
       "\n",
       "     death year     error  \n",
       "297        2013  0.312500  \n",
       "246        2008  0.312500  \n",
       "243        2007  0.312500  \n",
       "249        2005  0.285714  \n",
       "248        2002  0.285714  "
      ]
     },
     "execution_count": 19,
     "metadata": {},
     "output_type": "execute_result"
    }
   ],
   "source": [
    "ctrl_features = pd.DataFrame(ctrl_list, columns=['ctrl_name'])\n",
    "ctrl_features['ctrl_reviews'] = count_list\n",
    "\n",
    "res = pd.concat([ctrl_features.reset_index(), sorted_subjects.reset_index()], axis=1)\\\n",
    "            .drop('index', axis=1)\n",
    "res['error'] = np.abs(res['ctrl_reviews'] - res['reviews'])/(2*(1+res['ctrl_reviews'] + res['reviews']))\n",
    "\n",
    "res.sort_values(by='error', ascending=False).head()"
   ]
  },
  {
   "cell_type": "code",
   "execution_count": 20,
   "metadata": {},
   "outputs": [
    {
     "data": {
      "text/plain": [
       "array([[<matplotlib.axes._subplots.AxesSubplot object at 0x7fdcd6b20a20>]], dtype=object)"
      ]
     },
     "execution_count": 20,
     "metadata": {},
     "output_type": "execute_result"
    },
    {
     "data": {
      "image/png": "[encoded data removed]",
      "text/plain": [
       "<matplotlib.figure.Figure at 0x7fdcd6b20f98>"
      ]
     },
     "metadata": {},
     "output_type": "display_data"
    }
   ],
   "source": [
    "ctrl_features.hist(column='ctrl_reviews', figsize=[10,10], bins=100)"
   ]
  },
  {
   "cell_type": "code",
   "execution_count": 21,
   "metadata": {
    "scrolled": true
   },
   "outputs": [
    {
     "data": {
      "text/plain": [
       "array([[<matplotlib.axes._subplots.AxesSubplot object at 0x7fdcdee6f588>]], dtype=object)"
      ]
     },
     "execution_count": 21,
     "metadata": {},
     "output_type": "execute_result"
    },
    {
     "data": {
      "image/png": "[encoded data removed]",
      "text/plain": [
       "<matplotlib.figure.Figure at 0x7fdcdeeb0e48>"
      ]
     },
     "metadata": {},
     "output_type": "display_data"
    }
   ],
   "source": [
    "subjects_feats.hist(column='reviews', figsize=[10,10], bins=100)"
   ]
  },
  {
   "cell_type": "markdown",
   "metadata": {},
   "source": [
    "# Export results"
   ]
  },
  {
   "cell_type": "code",
   "execution_count": 22,
   "metadata": {},
   "outputs": [],
   "source": [
    "subjectsnb = str(len(sbj_names)-1)"
   ]
  },
  {
   "cell_type": "code",
   "execution_count": 23,
   "metadata": {
    "collapsed": true
   },
   "outputs": [],
   "source": [
    "subjects_actors.to_csv('DATA/reviews_cs_matched/reviews_subjects_'+subjectsnb+'.csv', index=False)"
   ]
  },
  {
   "cell_type": "code",
   "execution_count": 24,
   "metadata": {
    "collapsed": true
   },
   "outputs": [],
   "source": [
    "controls_actors.to_csv('DATA/reviews_cs_matched/reviews_controls_'+subjectsnb+'.csv', index=False)"
   ]
  },
  {
   "cell_type": "code",
   "execution_count": 25,
   "metadata": {
    "collapsed": true
   },
   "outputs": [],
   "source": [
    "res.to_csv('DATA/reviews_cs_matched/matchings_'+subjectsnb+'_feature=yearbefore.csv', index=False)"
   ]
  }
 ],
 "metadata": {
  "kernelspec": {
   "display_name": "Python 3",
   "language": "python",
   "name": "python3"
  },
  "language_info": {
   "codemirror_mode": {
    "name": "ipython",
    "version": 3
   },
   "file_extension": ".py",
   "mimetype": "text/x-python",
   "name": "python",
   "nbconvert_exporter": "python",
   "pygments_lexer": "ipython3",
   "version": "3.6.3"
  }
 },
 "nbformat": 4,
 "nbformat_minor": 2
}

{
 "cells": [
  {
   "cell_type": "code",
   "execution_count": 50,
   "metadata": {
    "collapsed": true
   },
   "outputs": [],
   "source": [
    "#essential imports\n",
    "import pandas as pd\n",
    "import numpy as np\n",
    "import json\n",
    "from pandas.io.json import json_normalize\n",
    "\n",
    "#plotting imports\n",
    "%matplotlib inline\n",
    "import matplotlib.pyplot as plt\n",
    "\n",
    "#date\n",
    "import datetime as dt"
   ]
  },
  {
   "cell_type": "markdown",
   "metadata": {},
   "source": [
    "# Loading Data"
   ]
  },
  {
   "cell_type": "code",
   "execution_count": 51,
   "metadata": {},
   "outputs": [
    {
     "data": {
      "text/html": [
       "<div>\n",
       "<style>\n",
       "    .dataframe thead tr:only-child th {\n",
       "        text-align: right;\n",
       "    }\n",
       "\n",
       "    .dataframe thead th {\n",
       "        text-align: left;\n",
       "    }\n",
       "\n",
       "    .dataframe tbody tr th {\n",
       "        vertical-align: top;\n",
       "    }\n",
       "</style>\n",
       "<table border=\"1\" class=\"dataframe\">\n",
       "  <thead>\n",
       "    <tr style=\"text-align: right;\">\n",
       "      <th></th>\n",
       "      <th>Name</th>\n",
       "      <th>Birth Date</th>\n",
       "      <th>Death Date</th>\n",
       "      <th>Description</th>\n",
       "      <th>Actor</th>\n",
       "      <th>Author</th>\n",
       "      <th>Musician</th>\n",
       "    </tr>\n",
       "  </thead>\n",
       "  <tbody>\n",
       "    <tr>\n",
       "      <th>0</th>\n",
       "      <td>Jack Weston</td>\n",
       "      <td>1924</td>\n",
       "      <td>1996-05-03</td>\n",
       "      <td>, american actor</td>\n",
       "      <td>True</td>\n",
       "      <td>False</td>\n",
       "      <td>False</td>\n",
       "    </tr>\n",
       "    <tr>\n",
       "      <th>1</th>\n",
       "      <td>John Beradino</td>\n",
       "      <td>1917</td>\n",
       "      <td>1996-05-19</td>\n",
       "      <td>, american baseball player and actor</td>\n",
       "      <td>True</td>\n",
       "      <td>False</td>\n",
       "      <td>False</td>\n",
       "    </tr>\n",
       "    <tr>\n",
       "      <th>2</th>\n",
       "      <td>Jon Pertwee</td>\n",
       "      <td>1919</td>\n",
       "      <td>1996-05-20</td>\n",
       "      <td>, british actor</td>\n",
       "      <td>True</td>\n",
       "      <td>False</td>\n",
       "      <td>False</td>\n",
       "    </tr>\n",
       "    <tr>\n",
       "      <th>3</th>\n",
       "      <td>Lash LaRue</td>\n",
       "      <td>1917</td>\n",
       "      <td>1996-05-21</td>\n",
       "      <td>, american actor</td>\n",
       "      <td>True</td>\n",
       "      <td>False</td>\n",
       "      <td>False</td>\n",
       "    </tr>\n",
       "    <tr>\n",
       "      <th>4</th>\n",
       "      <td>Paul Delph</td>\n",
       "      <td>1957</td>\n",
       "      <td>1996-05-21</td>\n",
       "      <td>, american musician and producer</td>\n",
       "      <td>False</td>\n",
       "      <td>False</td>\n",
       "      <td>True</td>\n",
       "    </tr>\n",
       "  </tbody>\n",
       "</table>\n",
       "</div>"
      ],
      "text/plain": [
       "            Name  Birth Date  Death Date  \\\n",
       "0    Jack Weston        1924  1996-05-03   \n",
       "1  John Beradino        1917  1996-05-19   \n",
       "2    Jon Pertwee        1919  1996-05-20   \n",
       "3     Lash LaRue        1917  1996-05-21   \n",
       "4     Paul Delph        1957  1996-05-21   \n",
       "\n",
       "                              Description  Actor  Author  Musician  \n",
       "0                       , american actor    True   False     False  \n",
       "1   , american baseball player and actor    True   False     False  \n",
       "2                        , british actor    True   False     False  \n",
       "3                       , american actor    True   False     False  \n",
       "4       , american musician and producer   False   False      True  "
      ]
     },
     "execution_count": 51,
     "metadata": {},
     "output_type": "execute_result"
    }
   ],
   "source": [
    "deaths = pd.read_csv('DATA/deaths.csv', low_memory=False)\n",
    "deaths.head()"
   ]
  },
  {
   "cell_type": "code",
   "execution_count": 123,
   "metadata": {},
   "outputs": [
    {
     "name": "stdout",
     "output_type": "stream",
     "text": [
      "1314\n"
     ]
    }
   ],
   "source": [
    "print(len(deaths))"
   ]
  },
  {
   "cell_type": "markdown",
   "metadata": {},
   "source": [
    "# Computing the jobs distributions"
   ]
  },
  {
   "cell_type": "code",
   "execution_count": 52,
   "metadata": {
    "collapsed": true
   },
   "outputs": [],
   "source": [
    "def proportion(df,job):\n",
    "    return len(df[df[job]==True].index)/len(df.index)"
   ]
  },
  {
   "cell_type": "code",
   "execution_count": 53,
   "metadata": {},
   "outputs": [],
   "source": [
    "job_distribution = pd.DataFrame(index=['dead artists jobs distributions'])\n",
    "job_distribution['actors'] = proportion(deaths,'Actor')\n",
    "job_distribution['authors'] = proportion(deaths,'Author')\n",
    "job_distribution['musicians'] = proportion(deaths,'Musician')"
   ]
  },
  {
   "cell_type": "code",
   "execution_count": 54,
   "metadata": {},
   "outputs": [
    {
     "data": {
      "text/html": [
       "<div>\n",
       "<style>\n",
       "    .dataframe thead tr:only-child th {\n",
       "        text-align: right;\n",
       "    }\n",
       "\n",
       "    .dataframe thead th {\n",
       "        text-align: left;\n",
       "    }\n",
       "\n",
       "    .dataframe tbody tr th {\n",
       "        vertical-align: top;\n",
       "    }\n",
       "</style>\n",
       "<table border=\"1\" class=\"dataframe\">\n",
       "  <thead>\n",
       "    <tr style=\"text-align: right;\">\n",
       "      <th></th>\n",
       "      <th>actors</th>\n",
       "      <th>authors</th>\n",
       "      <th>musicians</th>\n",
       "    </tr>\n",
       "  </thead>\n",
       "  <tbody>\n",
       "    <tr>\n",
       "      <th>dead artists jobs distributions</th>\n",
       "      <td>0.48554</td>\n",
       "      <td>0.266362</td>\n",
       "      <td>0.322679</td>\n",
       "    </tr>\n",
       "  </tbody>\n",
       "</table>\n",
       "</div>"
      ],
      "text/plain": [
       "                                  actors   authors  musicians\n",
       "dead artists jobs distributions  0.48554  0.266362   0.322679"
      ]
     },
     "execution_count": 54,
     "metadata": {},
     "output_type": "execute_result"
    }
   ],
   "source": [
    "job_distribution.head()"
   ]
  },
  {
   "cell_type": "code",
   "execution_count": 175,
   "metadata": {},
   "outputs": [
    {
     "data": {
      "text/plain": [
       "array([<matplotlib.axes._subplots.AxesSubplot object at 0x11e4cabe0>], dtype=object)"
      ]
     },
     "execution_count": 175,
     "metadata": {},
     "output_type": "execute_result"
    },
    {
     "data": {
      "image/png": "[encoded data removed]",
      "text/plain": [
       "<matplotlib.figure.Figure at 0x11e909e80>"
      ]
     },
     "metadata": {},
     "output_type": "display_data"
    }
   ],
   "source": [
    "job_distribution.transpose().plot.pie(subplots=True, colors=['purple', 'royalblue', 'skyblue'], autopct='%.2f',figsize=[6,6])"
   ]
  },
  {
   "cell_type": "markdown",
   "metadata": {},
   "source": [
    "# Distribution of dates: age at death and death date \n",
    "\n",
    "## Age at death for all categories"
   ]
  },
  {
   "cell_type": "code",
   "execution_count": 56,
   "metadata": {},
   "outputs": [],
   "source": [
    "def clear_date(df, date_name):\n",
    "    dout = df.drop(date_name,axis=1)\n",
    "    dout[date_name] = pd.to_datetime(df[date_name]).map(lambda x: x.year)\n",
    "    return dout\n",
    "\n",
    "deaths_dates = clear_date(deaths, 'Death Date')[['Name','Birth Date','Death Date']]"
   ]
  },
  {
   "cell_type": "code",
   "execution_count": 57,
   "metadata": {},
   "outputs": [
    {
     "data": {
      "text/html": [
       "<div>\n",
       "<style>\n",
       "    .dataframe thead tr:only-child th {\n",
       "        text-align: right;\n",
       "    }\n",
       "\n",
       "    .dataframe thead th {\n",
       "        text-align: left;\n",
       "    }\n",
       "\n",
       "    .dataframe tbody tr th {\n",
       "        vertical-align: top;\n",
       "    }\n",
       "</style>\n",
       "<table border=\"1\" class=\"dataframe\">\n",
       "  <thead>\n",
       "    <tr style=\"text-align: right;\">\n",
       "      <th></th>\n",
       "      <th>Name</th>\n",
       "      <th>Birth Date</th>\n",
       "      <th>Death Date</th>\n",
       "    </tr>\n",
       "  </thead>\n",
       "  <tbody>\n",
       "    <tr>\n",
       "      <th>0</th>\n",
       "      <td>Jack Weston</td>\n",
       "      <td>1924</td>\n",
       "      <td>1996</td>\n",
       "    </tr>\n",
       "    <tr>\n",
       "      <th>1</th>\n",
       "      <td>John Beradino</td>\n",
       "      <td>1917</td>\n",
       "      <td>1996</td>\n",
       "    </tr>\n",
       "    <tr>\n",
       "      <th>2</th>\n",
       "      <td>Jon Pertwee</td>\n",
       "      <td>1919</td>\n",
       "      <td>1996</td>\n",
       "    </tr>\n",
       "    <tr>\n",
       "      <th>3</th>\n",
       "      <td>Lash LaRue</td>\n",
       "      <td>1917</td>\n",
       "      <td>1996</td>\n",
       "    </tr>\n",
       "    <tr>\n",
       "      <th>4</th>\n",
       "      <td>Paul Delph</td>\n",
       "      <td>1957</td>\n",
       "      <td>1996</td>\n",
       "    </tr>\n",
       "  </tbody>\n",
       "</table>\n",
       "</div>"
      ],
      "text/plain": [
       "            Name  Birth Date  Death Date\n",
       "0    Jack Weston        1924        1996\n",
       "1  John Beradino        1917        1996\n",
       "2    Jon Pertwee        1919        1996\n",
       "3     Lash LaRue        1917        1996\n",
       "4     Paul Delph        1957        1996"
      ]
     },
     "execution_count": 57,
     "metadata": {},
     "output_type": "execute_result"
    }
   ],
   "source": [
    "deaths_dates.head()"
   ]
  },
  {
   "cell_type": "code",
   "execution_count": 58,
   "metadata": {
    "collapsed": true
   },
   "outputs": [],
   "source": [
    "def compute_age(birth, death):\n",
    "    age = []\n",
    "    for idx in range(0,len(birth)):\n",
    "        age.append(death[idx]-birth[idx])\n",
    "    return age\n",
    "\n",
    "deaths_dates['Age at death'] = compute_age(np.array(deaths_dates['Birth Date']), np.array(deaths_dates['Death Date']))"
   ]
  },
  {
   "cell_type": "code",
   "execution_count": 59,
   "metadata": {},
   "outputs": [
    {
     "data": {
      "text/html": [
       "<div>\n",
       "<style>\n",
       "    .dataframe thead tr:only-child th {\n",
       "        text-align: right;\n",
       "    }\n",
       "\n",
       "    .dataframe thead th {\n",
       "        text-align: left;\n",
       "    }\n",
       "\n",
       "    .dataframe tbody tr th {\n",
       "        vertical-align: top;\n",
       "    }\n",
       "</style>\n",
       "<table border=\"1\" class=\"dataframe\">\n",
       "  <thead>\n",
       "    <tr style=\"text-align: right;\">\n",
       "      <th></th>\n",
       "      <th>Name</th>\n",
       "      <th>Birth Date</th>\n",
       "      <th>Death Date</th>\n",
       "      <th>Age at death</th>\n",
       "    </tr>\n",
       "  </thead>\n",
       "  <tbody>\n",
       "    <tr>\n",
       "      <th>0</th>\n",
       "      <td>Jack Weston</td>\n",
       "      <td>1924</td>\n",
       "      <td>1996</td>\n",
       "      <td>72</td>\n",
       "    </tr>\n",
       "    <tr>\n",
       "      <th>1</th>\n",
       "      <td>John Beradino</td>\n",
       "      <td>1917</td>\n",
       "      <td>1996</td>\n",
       "      <td>79</td>\n",
       "    </tr>\n",
       "    <tr>\n",
       "      <th>2</th>\n",
       "      <td>Jon Pertwee</td>\n",
       "      <td>1919</td>\n",
       "      <td>1996</td>\n",
       "      <td>77</td>\n",
       "    </tr>\n",
       "    <tr>\n",
       "      <th>3</th>\n",
       "      <td>Lash LaRue</td>\n",
       "      <td>1917</td>\n",
       "      <td>1996</td>\n",
       "      <td>79</td>\n",
       "    </tr>\n",
       "    <tr>\n",
       "      <th>4</th>\n",
       "      <td>Paul Delph</td>\n",
       "      <td>1957</td>\n",
       "      <td>1996</td>\n",
       "      <td>39</td>\n",
       "    </tr>\n",
       "  </tbody>\n",
       "</table>\n",
       "</div>"
      ],
      "text/plain": [
       "            Name  Birth Date  Death Date  Age at death\n",
       "0    Jack Weston        1924        1996            72\n",
       "1  John Beradino        1917        1996            79\n",
       "2    Jon Pertwee        1919        1996            77\n",
       "3     Lash LaRue        1917        1996            79\n",
       "4     Paul Delph        1957        1996            39"
      ]
     },
     "execution_count": 59,
     "metadata": {},
     "output_type": "execute_result"
    }
   ],
   "source": [
    "deaths_dates.head()"
   ]
  },
  {
   "cell_type": "code",
   "execution_count": 148,
   "metadata": {},
   "outputs": [
    {
     "data": {
      "text/plain": [
       "[<matplotlib.axis.XTick at 0x11d022940>,\n",
       " <matplotlib.axis.XTick at 0x11d0165f8>,\n",
       " <matplotlib.axis.XTick at 0x11d003160>,\n",
       " <matplotlib.axis.XTick at 0x11d099f98>,\n",
       " <matplotlib.axis.XTick at 0x11d0948d0>,\n",
       " <matplotlib.axis.XTick at 0x11d0847b8>,\n",
       " <matplotlib.axis.XTick at 0x11d1a22e8>,\n",
       " <matplotlib.axis.XTick at 0x11d050f28>,\n",
       " <matplotlib.axis.XTick at 0x11d140f28>,\n",
       " <matplotlib.axis.XTick at 0x11d1a7780>,\n",
       " <matplotlib.axis.XTick at 0x11d19f278>,\n",
       " <matplotlib.axis.XTick at 0x11d19fe10>,\n",
       " <matplotlib.axis.XTick at 0x11d19d9e8>,\n",
       " <matplotlib.axis.XTick at 0x11d19def0>,\n",
       " <matplotlib.axis.XTick at 0x11d1a8a58>,\n",
       " <matplotlib.axis.XTick at 0x11d1ac630>,\n",
       " <matplotlib.axis.XTick at 0x11d1b0208>,\n",
       " <matplotlib.axis.XTick at 0x11d1b0da0>,\n",
       " <matplotlib.axis.XTick at 0x11d1b6978>]"
      ]
     },
     "execution_count": 148,
     "metadata": {},
     "output_type": "execute_result"
    },
    {
     "data": {
      "image/png": "[encoded data removed]",
      "text/plain": [
       "<matplotlib.figure.Figure at 0x11c17d160>"
      ]
     },
     "metadata": {},
     "output_type": "display_data"
    }
   ],
   "source": [
    "bins = np.round(np.linspace(np.min(deaths_dates['Age at death']),np.max(deaths_dates['Age at death']),19))\n",
    "ax = (deaths_dates[['Name','Age at death']].set_index('Name').rename(columns={'Age at death':'dead artists'})\n",
    "                .plot(kind='hist',orientation='vertical',facecolor='royalblue',bins=bins,figsize=(10,3), grid=True))\n",
    "ax.set_xlabel('Age at death')\n",
    "ax.xaxis.set_ticks(bins)"
   ]
  },
  {
   "cell_type": "markdown",
   "metadata": {},
   "source": [
    "## Death date for all categories"
   ]
  },
  {
   "cell_type": "code",
   "execution_count": 152,
   "metadata": {},
   "outputs": [
    {
     "data": {
      "text/plain": [
       "[<matplotlib.axis.XTick at 0x11d5b3710>,\n",
       " <matplotlib.axis.XTick at 0x11d59c2b0>,\n",
       " <matplotlib.axis.XTick at 0x11d5fc7f0>,\n",
       " <matplotlib.axis.XTick at 0x11d5fa860>,\n",
       " <matplotlib.axis.XTick at 0x11d494cf8>,\n",
       " <matplotlib.axis.XTick at 0x11d5b84e0>,\n",
       " <matplotlib.axis.XTick at 0x11d6f0d30>,\n",
       " <matplotlib.axis.XTick at 0x11d6fd588>,\n",
       " <matplotlib.axis.XTick at 0x11d6fdef0>,\n",
       " <matplotlib.axis.XTick at 0x11d19d4e0>,\n",
       " <matplotlib.axis.XTick at 0x11d61dc50>,\n",
       " <matplotlib.axis.XTick at 0x11d70e748>,\n",
       " <matplotlib.axis.XTick at 0x11d6f82e8>,\n",
       " <matplotlib.axis.XTick at 0x11d6f8e80>,\n",
       " <matplotlib.axis.XTick at 0x11d6f3a58>,\n",
       " <matplotlib.axis.XTick at 0x11d7112b0>,\n",
       " <matplotlib.axis.XTick at 0x11d711e48>,\n",
       " <matplotlib.axis.XTick at 0x11d716a20>,\n",
       " <matplotlib.axis.XTick at 0x11d71b5f8>]"
      ]
     },
     "execution_count": 152,
     "metadata": {},
     "output_type": "execute_result"
    },
    {
     "data": {
      "image/png": "[encoded data removed]",
      "text/plain": [
       "<matplotlib.figure.Figure at 0x11cf92128>"
      ]
     },
     "metadata": {},
     "output_type": "display_data"
    }
   ],
   "source": [
    "bins = np.round(np.linspace(1996,2014,19))\n",
    "ax = (deaths_dates[['Name','Death Date']].set_index('Name').rename(columns={'Death Date':'dead artists'})\n",
    "                .plot(kind='hist',orientation='vertical',facecolor='royalblue',figsize=(10,3),bins=bins, grid=True))\n",
    "ax.set_xlabel('Death Date')\n",
    "ax.xaxis.set_ticks(bins)"
   ]
  },
  {
   "cell_type": "markdown",
   "metadata": {},
   "source": [
    "# Per category analysis\n",
    "\n",
    "## Death date"
   ]
  },
  {
   "cell_type": "code",
   "execution_count": 155,
   "metadata": {},
   "outputs": [],
   "source": [
    "actors_dist = deaths_dates[deaths['Actor']==True]\n",
    "musicians_dist = deaths_dates[deaths['Author']==True]\n",
    "authors_dist = deaths_dates[deaths['Musician']==True]"
   ]
  },
  {
   "cell_type": "code",
   "execution_count": 173,
   "metadata": {},
   "outputs": [
    {
     "data": {
      "text/plain": [
       "[<matplotlib.axis.XTick at 0x11f81cef0>,\n",
       " <matplotlib.axis.XTick at 0x11f80e0b8>,\n",
       " <matplotlib.axis.XTick at 0x11f899ef0>,\n",
       " <matplotlib.axis.XTick at 0x11f8a2da0>,\n",
       " <matplotlib.axis.XTick at 0x11f8a6978>,\n",
       " <matplotlib.axis.XTick at 0x11f8aa1d0>,\n",
       " <matplotlib.axis.XTick at 0x11f8aad68>,\n",
       " <matplotlib.axis.XTick at 0x11f8af940>,\n",
       " <matplotlib.axis.XTick at 0x11f8b2518>,\n",
       " <matplotlib.axis.XTick at 0x11f80be80>,\n",
       " <matplotlib.axis.XTick at 0x11f82c358>,\n",
       " <matplotlib.axis.XTick at 0x11f8b5518>,\n",
       " <matplotlib.axis.XTick at 0x11f8b5f98>,\n",
       " <matplotlib.axis.XTick at 0x11f8b7b70>,\n",
       " <matplotlib.axis.XTick at 0x11f8ba748>,\n",
       " <matplotlib.axis.XTick at 0x11f8bacc0>,\n",
       " <matplotlib.axis.XTick at 0x11f8be7b8>,\n",
       " <matplotlib.axis.XTick at 0x11f8c2390>,\n",
       " <matplotlib.axis.XTick at 0x11f8c2f28>]"
      ]
     },
     "execution_count": 173,
     "metadata": {},
     "output_type": "execute_result"
    },
    {
     "data": {
      "image/png": "[encoded data removed]",
      "text/plain": [
       "<matplotlib.figure.Figure at 0x11f4068d0>"
      ]
     },
     "metadata": {},
     "output_type": "display_data"
    },
    {
     "data": {
      "image/png": "[encoded data removed]",
      "text/plain": [
       "<matplotlib.figure.Figure at 0x11e1abf60>"
      ]
     },
     "metadata": {},
     "output_type": "display_data"
    },
    {
     "data": {
      "image/png": "[encoded data removed]",
      "text/plain": [
       "<matplotlib.figure.Figure at 0x11f80bba8>"
      ]
     },
     "metadata": {},
     "output_type": "display_data"
    }
   ],
   "source": [
    "bins = np.round(np.linspace(1996,2014,19))\n",
    "ax = (authors_dist[['Name','Death Date']].set_index('Name').rename(columns={'Death Date':'Authors'})\n",
    "                .plot(kind='hist',orientation='vertical',facecolor='darkblue',figsize=(10,2),bins=bins, grid=True))\n",
    "#ax.set_xlabel('Death Date')\n",
    "ax.xaxis.set_ticks(bins)\n",
    "\n",
    "ax2 = (musicians_dist[['Name','Death Date']].set_index('Name').rename(columns={'Death Date':'Musicians'})\n",
    "                .plot(kind='hist',orientation='vertical',facecolor='skyblue',figsize=(10,2),bins=bins, grid=True))\n",
    "#ax2.set_xlabel('Death Date')\n",
    "ax2.xaxis.set_ticks(bins)\n",
    "\n",
    "ax3 = (actors_dist[['Name','Death Date']].set_index('Name').rename(columns={'Death Date':'Actors'})\n",
    "                .plot(kind='hist',orientation='vertical',facecolor='purple',figsize=(10,2),bins=bins, grid=True))\n",
    "ax3.set_xlabel('Death Date')\n",
    "ax3.xaxis.set_ticks(bins)"
   ]
  },
  {
   "cell_type": "markdown",
   "metadata": {},
   "source": [
    "## Age distribution per category"
   ]
  },
  {
   "cell_type": "code",
   "execution_count": 174,
   "metadata": {},
   "outputs": [
    {
     "data": {
      "text/plain": [
       "[<matplotlib.axis.XTick at 0x11fbb8908>,\n",
       " <matplotlib.axis.XTick at 0x11fbb8ac8>,\n",
       " <matplotlib.axis.XTick at 0x11fc3a550>,\n",
       " <matplotlib.axis.XTick at 0x11fc42400>,\n",
       " <matplotlib.axis.XTick at 0x11fc42f98>,\n",
       " <matplotlib.axis.XTick at 0x11fc457f0>,\n",
       " <matplotlib.axis.XTick at 0x11fc4b3c8>,\n",
       " <matplotlib.axis.XTick at 0x11fbbcc18>,\n",
       " <matplotlib.axis.XTick at 0x11fc4e5c0>,\n",
       " <matplotlib.axis.XTick at 0x11fc3c128>,\n",
       " <matplotlib.axis.XTick at 0x11fc4ba58>,\n",
       " <matplotlib.axis.XTick at 0x11fc3c630>,\n",
       " <matplotlib.axis.XTick at 0x11fc52048>,\n",
       " <matplotlib.axis.XTick at 0x11fc52be0>,\n",
       " <matplotlib.axis.XTick at 0x11fc587b8>,\n",
       " <matplotlib.axis.XTick at 0x11fc5b390>,\n",
       " <matplotlib.axis.XTick at 0x11fc5bf28>,\n",
       " <matplotlib.axis.XTick at 0x11fc5fb00>,\n",
       " <matplotlib.axis.XTick at 0x11fc626d8>]"
      ]
     },
     "execution_count": 174,
     "metadata": {},
     "output_type": "execute_result"
    },
    {
     "data": {
      "image/png": "[encoded data removed]",
      "text/plain": [
       "<matplotlib.figure.Figure at 0x11dbfcac8>"
      ]
     },
     "metadata": {},
     "output_type": "display_data"
    },
    {
     "data": {
      "image/png": "[encoded data removed]",
      "text/plain": [
       "<matplotlib.figure.Figure at 0x11faf4a58>"
      ]
     },
     "metadata": {},
     "output_type": "display_data"
    },
    {
     "data": {
      "image/png": "[encoded data removed]",
      "text/plain": [
       "<matplotlib.figure.Figure at 0x11fbae828>"
      ]
     },
     "metadata": {},
     "output_type": "display_data"
    }
   ],
   "source": [
    "bins = np.round(np.linspace(np.min(deaths_dates['Age at death']),np.max(deaths_dates['Age at death']),19))\n",
    "ax = (authors_dist[['Name','Age at death']].set_index('Name').rename(columns={'Age at death':'Authors'})\n",
    "                .plot(kind='hist',orientation='vertical',facecolor='darkblue',bins=bins,figsize=(10,2), grid=True))\n",
    "#ax.set_xlabel('Age at death')\n",
    "ax.xaxis.set_ticks(bins)\n",
    "\n",
    "ax = (musicians_dist[['Name','Age at death']].set_index('Name').rename(columns={'Age at death':'Musicians'})\n",
    "                .plot(kind='hist',orientation='vertical',facecolor='skyblue',bins=bins,figsize=(10,2), grid=True))\n",
    "#ax.set_xlabel('Age at death')\n",
    "ax.xaxis.set_ticks(bins)\n",
    "\n",
    "ax = (actors_dist[['Name','Age at death']].set_index('Name').rename(columns={'Age at death':'Actors'})\n",
    "                .plot(kind='hist',orientation='vertical',facecolor='purple',bins=bins,figsize=(10,2), grid=True))\n",
    "ax.set_xlabel('Age at death')\n",
    "ax.xaxis.set_ticks(bins)"
   ]
  }
 ],
 "metadata": {
  "kernelspec": {
   "display_name": "Python 3",
   "language": "python",
   "name": "python3"
  },
  "language_info": {
   "codemirror_mode": {
    "name": "ipython",
    "version": 3
   },
   "file_extension": ".py",
   "mimetype": "text/x-python",
   "name": "python",
   "nbconvert_exporter": "python",
   "pygments_lexer": "ipython3",
   "version": "3.5.3"
  }
 },
 "nbformat": 4,
 "nbformat_minor": 2
}
